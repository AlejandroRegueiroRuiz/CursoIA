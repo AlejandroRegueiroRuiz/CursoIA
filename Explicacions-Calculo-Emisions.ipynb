{
 "cells": [
  {
   "cell_type": "markdown",
   "id": "ecf6ee70-4768-43a1-9d2f-9ace7ebd394d",
   "metadata": {},
   "source": [
    "<h1>Calcula la cantidad de emisiones que se emiten en relación a la jornada laboral</h1>"
   ]
  },
  {
   "cell_type": "markdown",
   "id": "e9f30769-f259-41b1-b511-b1c02275af32",
   "metadata": {},
   "source": [
    "<p>El script se basa en hacer un calculo sobre las emisiones emitidas donde le tenemos que pasar la cantidad de kilómetros diarios que hacemos cuando dias a la semana trabajamos y cuantas semanas hemos trabajado, multiplica los parametros que hemos introducido junto con la cantidad de emisiones que genera el vehículo que conducimos</p>"
   ]
  },
  {
   "cell_type": "code",
   "execution_count": 9,
   "id": "4a2c466f-78d9-4f44-9fa4-8d05a711e664",
   "metadata": {},
   "outputs": [
    {
     "name": "stdout",
     "output_type": "stream",
     "text": [
      "A diferencia de consumo é de: 278400 gC02\n"
     ]
    }
   ],
   "source": [
    "#!/usr/bin/env python\n",
    "\n",
    "# Cálculo de emisións\n",
    "\n",
    "# Variables\n",
    "KMS_DIARIOS = 80\n",
    "DIAS_LABORAIS_SEMANAIS = 5\n",
    "SEMANAS = 24\n",
    "\n",
    "# Cada medio de transporte ten o seu índice de emisións medio (gramos por km)\n",
    "# https://www.movilidad-idae.es/destacados/emisiones-de-co2-por-modos-de-transporte-motorizado\n",
    "EMISION_X_KM = 121\n",
    "\n",
    "EMISION_X_KM_OUTRO = 150\n",
    "\n",
    "cantidade_de_emisions = KMS_DIARIOS * DIAS_LABORAIS_SEMANAIS * SEMANAS * EMISION_X_KM\n",
    "cantidade_de_emisions_outro = KMS_DIARIOS * DIAS_LABORAIS_SEMANAIS * SEMANAS * EMISION_X_KM_OUTRO\n",
    "\n",
    "diferencia_de_emisions = cantidade_de_emisions_outro - cantidade_de_emisions\n",
    "print('A diferencia de consumo é de:', diferencia_de_emisions, 'gC02')"
   ]
  }
 ],
 "metadata": {
  "kernelspec": {
   "display_name": "Python 3 (ipykernel)",
   "language": "python",
   "name": "python3"
  },
  "language_info": {
   "codemirror_mode": {
    "name": "ipython",
    "version": 3
   },
   "file_extension": ".py",
   "mimetype": "text/x-python",
   "name": "python",
   "nbconvert_exporter": "python",
   "pygments_lexer": "ipython3",
   "version": "3.13.1"
  }
 },
 "nbformat": 4,
 "nbformat_minor": 5
}
