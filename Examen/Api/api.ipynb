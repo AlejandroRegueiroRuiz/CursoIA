{
 "cells": [
  {
   "cell_type": "code",
   "execution_count": 8,
   "metadata": {},
   "outputs": [],
   "source": [
    "import requests"
   ]
  },
  {
   "cell_type": "code",
   "execution_count": null,
   "metadata": {},
   "outputs": [],
   "source": [
    "# Trabajamos con el api de rick y morty\n",
    "path = \"https://rickandmortyapi.com/api/episode/\"\n",
    "\n",
    "# Hacemos la peticion\n",
    "response = requests.get(path)\n",
    "\n",
    "# Mostramos la informacion\n",
    "response.json()"
   ]
  },
  {
   "cell_type": "code",
   "execution_count": null,
   "metadata": {},
   "outputs": [],
   "source": [
    "# Vamos a sacar la id, el nombre y el numero de episodio de cada episodio\n",
    "episodios = response.json()['results']\n",
    "\n",
    "for episodio in episodios:\n",
    "    print(f\"{episodio['id']}\\t {episodio['name']}\\t {episodio['episode']}\")\n",
    "    # Vamos tambien a hacer una peticion a cada personaje que salió en el epiosodio y sacar el nombre, el status, la especie, y el género\n",
    "    for personaje in episodio['characters']:\n",
    "        response = requests.get(personaje)\n",
    "        personaje = response.json()\n",
    "        print(f\"{personaje['name']}\\t{personaje['status']}\\t{personaje['species']}\\t{personaje['gender']}\")\n",
    "    print(\"\\n\")"
   ]
  }
 ],
 "metadata": {
  "kernelspec": {
   "display_name": "bigdata",
   "language": "python",
   "name": "python3"
  },
  "language_info": {
   "codemirror_mode": {
    "name": "ipython",
    "version": 3
   },
   "file_extension": ".py",
   "mimetype": "text/x-python",
   "name": "python",
   "nbconvert_exporter": "python",
   "pygments_lexer": "ipython3",
   "version": "3.12.3"
  }
 },
 "nbformat": 4,
 "nbformat_minor": 2
}
