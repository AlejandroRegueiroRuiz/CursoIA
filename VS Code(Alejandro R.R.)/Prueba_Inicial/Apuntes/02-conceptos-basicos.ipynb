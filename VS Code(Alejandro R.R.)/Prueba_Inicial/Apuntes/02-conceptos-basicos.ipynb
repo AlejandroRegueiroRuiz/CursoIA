{
 "cells": [
  {
   "cell_type": "markdown",
   "metadata": {},
   "source": [
    "<center>\n",
    "<h1 style=\"color: #007BC4;\">Python</h1> \n",
    "<h3 style=\"color: #333333;\">Conceptos básicos de Python</h3> \n",
    "</center>\n",
    "\n",
    "<br>"
   ]
  },
  {
   "cell_type": "markdown",
   "metadata": {},
   "source": [
    "<h1>Contenidos</h1>\n",
    "<div class=\"alert alert-block alert-info\" \n",
    "     style=\"margin-top: 0px; padding-top:0px; border: 1px solid #007BC4; border-radius: 20px; background:transparent;\">\n",
    "    <ul>\n",
    "        <li><a href=\"#types\">Tipos de datos</a></li>\n",
    "        <li><a href=\"#expressions\">Expresiones</a></li>\n",
    "        <li><a href=\"#print\">Escritura en pantalla</a></li>\n",
    "        <li><a href=\"#input\">Lectura de datos por teclado</a></li>\n",
    "        <li><a href=\"#example\">Ejemplo de programa</a></li>\n",
    "    </ul>\n",
    "</div>"
   ]
  },
  {
   "cell_type": "markdown",
   "metadata": {},
   "source": [
    "<a name=\"#types\"></a>\n",
    "# <font style=\"color: #007BC4;\">Tipos de datos en Python</font>\n",
    "\n",
    "<hr style=\"border: 0.5px solid #007BC4;\">"
   ]
  },
  {
   "cell_type": "code",
   "execution_count": null,
   "metadata": {},
   "outputs": [],
   "source": [
    "type(5)"
   ]
  },
  {
   "cell_type": "code",
   "execution_count": null,
   "metadata": {},
   "outputs": [],
   "source": [
    "type(5.3)"
   ]
  },
  {
   "cell_type": "code",
   "execution_count": null,
   "metadata": {},
   "outputs": [],
   "source": [
    "type(\"hola\")"
   ]
  },
  {
   "cell_type": "code",
   "execution_count": null,
   "metadata": {},
   "outputs": [],
   "source": [
    "type(True)"
   ]
  },
  {
   "cell_type": "markdown",
   "metadata": {},
   "source": [
    "## <font style=\"color:#007BC4;\">Conversiones de tipo</font>"
   ]
  },
  {
   "cell_type": "markdown",
   "metadata": {},
   "source": [
    "### <font style=\"color:#007BC4;\">String a entero</font>"
   ]
  },
  {
   "cell_type": "code",
   "execution_count": null,
   "metadata": {},
   "outputs": [],
   "source": [
    "int('1')"
   ]
  },
  {
   "cell_type": "markdown",
   "metadata": {},
   "source": [
    "### <font style=\"color:#007BC4;\">String a real</font>"
   ]
  },
  {
   "cell_type": "code",
   "execution_count": null,
   "metadata": {},
   "outputs": [],
   "source": [
    "float('1.2')"
   ]
  },
  {
   "cell_type": "markdown",
   "metadata": {},
   "source": [
    "### <font style=\"color:#007BC4;\">Número a string</font>"
   ]
  },
  {
   "cell_type": "code",
   "execution_count": null,
   "metadata": {},
   "outputs": [],
   "source": [
    "str(5)"
   ]
  },
  {
   "cell_type": "code",
   "execution_count": null,
   "metadata": {},
   "outputs": [],
   "source": [
    "str(1.5)"
   ]
  },
  {
   "cell_type": "code",
   "execution_count": null,
   "metadata": {},
   "outputs": [],
   "source": [
    "bool(0)"
   ]
  },
  {
   "cell_type": "code",
   "execution_count": null,
   "metadata": {},
   "outputs": [],
   "source": [
    "bool(1)"
   ]
  },
  {
   "cell_type": "code",
   "execution_count": null,
   "metadata": {},
   "outputs": [],
   "source": [
    "bool(5)"
   ]
  },
  {
   "cell_type": "code",
   "execution_count": null,
   "metadata": {},
   "outputs": [],
   "source": [
    "bool(2.3)"
   ]
  },
  {
   "cell_type": "code",
   "execution_count": null,
   "metadata": {},
   "outputs": [],
   "source": [
    "bool(\"hola\")"
   ]
  },
  {
   "cell_type": "markdown",
   "metadata": {},
   "source": [
    "<a name=\"expressions\"></a>\n",
    "# <font style=\"color: #007BC4;\">Expresiones</font>\n",
    "<hr style=\"border: 0.5px solid #007BC4;\">\n"
   ]
  },
  {
   "cell_type": "markdown",
   "metadata": {},
   "source": [
    "## <font style=\"color: #007BC4;\">Operadores aritméticos</font>"
   ]
  },
  {
   "cell_type": "markdown",
   "metadata": {},
   "source": [
    "| Símbolo    | Operación |\n",
    "| -------- | ------- |\n",
    "|  +  | Suma    |\n",
    "|  -  | Resta     |\n",
    "|  *  | Multiplicación   |\n",
    "|  /  | División |\n",
    "| //  | Cociente división entera |\n",
    "| %  | Resto división entera |\n",
    "| ** | Potencia (elevado a un número) |\n",
    "\n"
   ]
  },
  {
   "cell_type": "markdown",
   "metadata": {},
   "source": [
    "### <font style=\"color: #007BC4;\">Ejemplos</font>"
   ]
  },
  {
   "cell_type": "code",
   "execution_count": null,
   "metadata": {},
   "outputs": [],
   "source": [
    "5 / 2"
   ]
  },
  {
   "cell_type": "code",
   "execution_count": null,
   "metadata": {},
   "outputs": [],
   "source": [
    "5//2"
   ]
  },
  {
   "cell_type": "code",
   "execution_count": null,
   "metadata": {},
   "outputs": [],
   "source": [
    "5%2"
   ]
  },
  {
   "cell_type": "code",
   "execution_count": null,
   "metadata": {},
   "outputs": [],
   "source": [
    "5**2"
   ]
  },
  {
   "cell_type": "markdown",
   "metadata": {},
   "source": [
    "<a name=\"print\"></a>\n",
    "\n",
    "# <font style=\"color: #007BC4;\">Escritura por pantalla</font>\n",
    "<hr style=\"border: 0.5px solid #007BC4;\">\n",
    "\n",
    "- Usa `print()` para escribir en pantalla.\n",
    "- `print()` admite múltiples argumentos, por defecto los separa por un espacio en blanco y finaliza con un salto de línea.\n",
    "- Las cadenas de caracteres (texto) pueden escribirse entre comillas dobles o simples.\n",
    "- Una cadena con formato va precedida de **f**.\n"
   ]
  },
  {
   "cell_type": "markdown",
   "metadata": {},
   "source": [
    "### <font style=\"color: #007BC4;\">Ejemplo 1</font>\n",
    "\n",
    "Asignamos valores a las variables n1 y n2"
   ]
  },
  {
   "cell_type": "code",
   "execution_count": null,
   "metadata": {},
   "outputs": [],
   "source": [
    "n1 = 1\n",
    "n2 = 2"
   ]
  },
  {
   "cell_type": "markdown",
   "metadata": {},
   "source": [
    "Mostramos las variables `n1` y `n2` por pantalla de tres formas distinas con la función `print`:"
   ]
  },
  {
   "cell_type": "code",
   "execution_count": null,
   "metadata": {
    "tags": []
   },
   "outputs": [],
   "source": [
    "print(\"n1 vale\", n1, \"y n2 vale\", n2)"
   ]
  },
  {
   "cell_type": "code",
   "execution_count": null,
   "metadata": {},
   "outputs": [],
   "source": [
    "print(\"n1 vale \" + str(n1) + \" y n2 vale \" + str(n2))"
   ]
  },
  {
   "cell_type": "markdown",
   "metadata": {},
   "source": [
    "<h4 style=\"color: #007BC4;\">F-string</h4>"
   ]
  },
  {
   "cell_type": "code",
   "execution_count": null,
   "metadata": {},
   "outputs": [],
   "source": [
    "print(f\"n1 vale {n1} y n2 vale {n2}\")"
   ]
  },
  {
   "cell_type": "markdown",
   "metadata": {},
   "source": [
    "<h4 style=\"color: #007BC4;\">Formateando con %</h4>"
   ]
  },
  {
   "cell_type": "code",
   "execution_count": null,
   "metadata": {},
   "outputs": [],
   "source": [
    "print('n1 vale %d y n2 vale %d' % (n1, n2))"
   ]
  },
  {
   "cell_type": "markdown",
   "metadata": {},
   "source": [
    "<h4 style=\"color: #007BC4;\">Formateando con .format()</h4>"
   ]
  },
  {
   "cell_type": "code",
   "execution_count": null,
   "metadata": {},
   "outputs": [],
   "source": [
    "print('n1 vale {0} y n2 vale {1}'.format(n1, n2))"
   ]
  },
  {
   "cell_type": "code",
   "execution_count": null,
   "metadata": {},
   "outputs": [],
   "source": [
    "print('n1 vale {} y n2 vale {}'.format(n1, n2))"
   ]
  },
  {
   "cell_type": "markdown",
   "metadata": {},
   "source": [
    "<h3 style=\"color: #v;\">Ejemplo 2</h3>\n",
    "\n",
    "\n",
    "\n",
    "Asignamos valores a las variables n3 y n4"
   ]
  },
  {
   "cell_type": "code",
   "execution_count": null,
   "metadata": {},
   "outputs": [],
   "source": [
    "n3 = 8.9\n",
    "n4 = 12.316"
   ]
  },
  {
   "cell_type": "markdown",
   "metadata": {},
   "source": [
    "Mostramos las variables `n3` y `n4` por pantalla, indicando el número de decimales a mostrar:"
   ]
  },
  {
   "cell_type": "code",
   "execution_count": null,
   "metadata": {},
   "outputs": [],
   "source": [
    "print(f\"n3 vale {n3:.2f} y n4 vale {n4:.2f}\")"
   ]
  },
  {
   "cell_type": "code",
   "execution_count": null,
   "metadata": {},
   "outputs": [],
   "source": [
    "print('n3 vale %.2f y y n4 vale %.2f' % (n3, n4))"
   ]
  },
  {
   "cell_type": "code",
   "execution_count": null,
   "metadata": {},
   "outputs": [],
   "source": [
    "print('n3 vale {0:.2f} y y n4 vale {1:.2f}'.format(n3, n4))"
   ]
  },
  {
   "cell_type": "code",
   "execution_count": null,
   "metadata": {},
   "outputs": [],
   "source": [
    "print('n3 vale {:.2f} y y n4 vale {:.2f}'.format(n3, n4))"
   ]
  },
  {
   "cell_type": "markdown",
   "metadata": {},
   "source": [
    "## <font style=\"color: #007BC4;\">Parámetros end y sep</font>"
   ]
  },
  {
   "cell_type": "markdown",
   "metadata": {},
   "source": [
    "Print, por defecto:\n",
    "- Muestra un salto de línea tras mostrar el/los valores que le pasamos.\n",
    "- Muestra un espacio entre los valores que le pasamos al mostrarlos.\n",
    "\n",
    "Pero ambas cosas se pueden cambiar."
   ]
  },
  {
   "cell_type": "markdown",
   "metadata": {},
   "source": [
    "### <font style=\"color: #007BC4;\">Ejemplo</font>\n"
   ]
  },
  {
   "cell_type": "code",
   "execution_count": null,
   "metadata": {},
   "outputs": [],
   "source": [
    "numero1 = 25\n",
    "numero2 = 10"
   ]
  },
  {
   "cell_type": "code",
   "execution_count": null,
   "metadata": {},
   "outputs": [],
   "source": [
    "print(numero1,numero2)"
   ]
  },
  {
   "cell_type": "code",
   "execution_count": null,
   "metadata": {},
   "outputs": [],
   "source": [
    "print(numero1, numero1, sep = \" - \")"
   ]
  },
  {
   "cell_type": "code",
   "execution_count": null,
   "metadata": {},
   "outputs": [],
   "source": [
    "print(\"Los números son:\")\n",
    "print(numero1, numero1, sep = \" - \")\n"
   ]
  },
  {
   "cell_type": "code",
   "execution_count": null,
   "metadata": {},
   "outputs": [],
   "source": [
    "print(\"Los números son: \", end = \" \")\n",
    "print(numero1, numero1, sep = \" - \", end = \".\")\n"
   ]
  },
  {
   "cell_type": "markdown",
   "metadata": {},
   "source": [
    "<a name=\"input\"></a>\n",
    "\n",
    "# <font style=\"color: #007BC4;\">Lectura de datos por teclado</font>\n",
    "<hr style=\"border: 0.5px solid #007BC4;\">\n",
    "\n",
    "- Usa `input()` para leer datos por teclado:\n",
    "    - Devuelve una cadena de caracteres.\n",
    "    - Admite un argumento que es el texto que se desea que salga por pantalla para informar al usuario.\n",
    "- Un cadena de caracteres puede convertirse a entero con la función int(), a número real con float(), etc.\n"
   ]
  },
  {
   "cell_type": "markdown",
   "metadata": {},
   "source": [
    "## <font style=\"color: #007BC4;\">Ejemplo 1</font>\n",
    "\n",
    "Pedimos por teclado un valor, lo convertimos a un entero y se lo asignamos a la variable `n1`:"
   ]
  },
  {
   "cell_type": "code",
   "execution_count": null,
   "metadata": {},
   "outputs": [],
   "source": [
    "n1 = int(input(\"Dime el valor de n1: \"))"
   ]
  },
  {
   "cell_type": "markdown",
   "metadata": {},
   "source": [
    "Pedimos por teclado un valor, lo convertimos a un entero y se lo asignamos a la variable `n2`:"
   ]
  },
  {
   "cell_type": "code",
   "execution_count": null,
   "metadata": {},
   "outputs": [],
   "source": [
    "n2 = int(input(\"Dime el valor de n2: \"))"
   ]
  },
  {
   "cell_type": "markdown",
   "metadata": {},
   "source": [
    "Mostramos las variables por pantalla:"
   ]
  },
  {
   "cell_type": "code",
   "execution_count": null,
   "metadata": {},
   "outputs": [],
   "source": [
    "print(\"n1 vale\", n1, \"y n2 vale\", n2)"
   ]
  },
  {
   "cell_type": "markdown",
   "metadata": {},
   "source": [
    "Mostramos la suma de las variables por pantalla:"
   ]
  },
  {
   "cell_type": "code",
   "execution_count": null,
   "metadata": {},
   "outputs": [],
   "source": [
    "print(\"n1 + n2 = \", n1+n2)"
   ]
  },
  {
   "cell_type": "markdown",
   "metadata": {},
   "source": [
    "## <font style=\"color: #007BC4;\">Ejemplo 2</font>\n",
    "\n",
    "Pedimos por teclado un valor y se lo asignamos a la variable `n3`:"
   ]
  },
  {
   "cell_type": "code",
   "execution_count": null,
   "metadata": {},
   "outputs": [],
   "source": [
    "n3 = input(\"Dime el valor de n3: \")"
   ]
  },
  {
   "cell_type": "markdown",
   "metadata": {},
   "source": [
    "Pedimos por teclado un valor y se lo asignamos a la variable `n4`:"
   ]
  },
  {
   "cell_type": "code",
   "execution_count": null,
   "metadata": {},
   "outputs": [],
   "source": [
    "n4 = input(\"Dime el valor de n4: \")"
   ]
  },
  {
   "cell_type": "markdown",
   "metadata": {},
   "source": [
    "Mostramos las variables por pantalla:"
   ]
  },
  {
   "cell_type": "code",
   "execution_count": null,
   "metadata": {},
   "outputs": [],
   "source": [
    "print(\"n3 vale\", n3, \"y n4 vale\", n4)"
   ]
  },
  {
   "cell_type": "markdown",
   "metadata": {},
   "source": [
    "Mostramos la suma de las variables por pantalla:"
   ]
  },
  {
   "cell_type": "code",
   "execution_count": null,
   "metadata": {},
   "outputs": [],
   "source": [
    "print(\"n3 + n4 = \", n3+n4)"
   ]
  },
  {
   "cell_type": "markdown",
   "metadata": {},
   "source": [
    "<a name=\"example\"></a>\n",
    "\n",
    "## <font style=\"color: #007BC4;\">Ejemplo de programa</font>"
   ]
  },
  {
   "cell_type": "markdown",
   "metadata": {},
   "source": [
    "### <font style=\"color: #007BC4;\">Enunciado: </font>\n",
    "\n",
    "- Implementar un programa en Python que calcule:\n",
    "  - Área de un círculo para un radio dado `(π*radio2)`\n",
    "  - Longitud de la circunferencia con dicho radio `(2*π*radio)`\n",
    "- El radio será pedido al usuario.\n",
    "- Los resultados deben mostrarse por pantalla con 2 decimales.\n"
   ]
  },
  {
   "cell_type": "code",
   "execution_count": null,
   "metadata": {
    "tags": []
   },
   "outputs": [],
   "source": [
    "\"\"\"\n",
    "Programa que calcula el área y longitud de una circunferencia.\n",
    "\"\"\"\n",
    "\n",
    "import math\n",
    "\n",
    "radio = float(input(\"Introduce el radio: \"))\n",
    "\n",
    "area = math.pi * radio **2\n",
    "longitud = 2 * math.pi * radio\n",
    "\n",
    "print(f\"El area vale {area:.2f} y la longitud {longitud:.2f}\")"
   ]
  },
  {
   "cell_type": "code",
   "execution_count": null,
   "metadata": {},
   "outputs": [],
   "source": []
  }
 ],
 "metadata": {
  "interpreter": {
   "hash": "aee8b7b246df8f9039afb4144a1f6fd8d2ca17a180786b69acc140d282b71a49"
  },
  "kernelspec": {
   "display_name": "Python 3 (ipykernel)",
   "language": "python",
   "name": "python3"
  },
  "language_info": {
   "codemirror_mode": {
    "name": "ipython",
    "version": 3
   },
   "file_extension": ".py",
   "mimetype": "text/x-python",
   "name": "python",
   "nbconvert_exporter": "python",
   "pygments_lexer": "ipython3",
   "version": "3.11.9"
  }
 },
 "nbformat": 4,
 "nbformat_minor": 4
}
