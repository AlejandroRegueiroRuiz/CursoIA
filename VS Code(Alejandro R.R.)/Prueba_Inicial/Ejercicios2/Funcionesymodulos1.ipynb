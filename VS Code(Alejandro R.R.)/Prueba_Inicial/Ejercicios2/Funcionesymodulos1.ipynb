{
 "cells": [
  {
   "cell_type": "markdown",
   "metadata": {},
   "source": [
    "<center>\n",
    "<h1 style=\"color: #007BC4;\">Python</h1> \n",
    "<h3 style=\"color: #333333;\">Ejercicios Funciones y Módulos I</h3> \n",
    "</center>\n",
    "\n",
    "<br>\n"
   ]
  },
  {
   "cell_type": "markdown",
   "metadata": {},
   "source": [
    "- #### Autor: Alejandro Regueiro Ruiz\n",
    "Nota: Se han de subir también a la tarea del AV los ficheros .py correspondientes a los ejercicios 2,3 y 4\n"
   ]
  },
  {
   "cell_type": "markdown",
   "metadata": {},
   "source": [
    "## Ejercicio 1  \n",
    "#### [Muestro ya la solución pero deberías intentar hacer uno. Analiza cada uno de los elementos]\n",
    "\n",
    "Define un decorador que realice *logging* de la función que decore. El logging consistirá en mostrar por pantalla:\n",
    "\n",
    "• Llamada a la función <nombre_funcion>. Args<parámetros por posicion>, Kws:<parámetros por nombre>.\n",
    "\n",
    "• Se puede obtener el nombre de una función: `func._name_`\t\n",
    "\n",
    "```@logging_dec\n",
    "def suma(a, b):\n",
    "     return a + b\n",
    "\n",
    "resultado = suma(2, b=3)\n",
    "\n",
    "— - -\n",
    "Se mostraría por pantalla:\n",
    "Llamada a la función: suma. Args: (2,), Kwargs: {'b': 3}\n",
    "\n"
   ]
  },
  {
   "cell_type": "code",
   "execution_count": null,
   "metadata": {},
   "outputs": [
    {
     "name": "stdout",
     "output_type": "stream",
     "text": [
      "Llamada a la función: my_function. Args: (2, 4, 6, 8, 10, 12, 14, 15, 17, 19, 20), Kwargs: {'b': 3}\n",
      "\n",
      "El número de iteraciones del bucle es 11\n",
      "\n",
      "Los números que se van a sumar son 2 4 6 8 10 12 14 15 17 19 20\n"
     ]
    },
    {
     "data": {
      "text/plain": [
       "127"
      ]
     },
     "execution_count": 27,
     "metadata": {},
     "output_type": "execute_result"
    }
   ],
   "source": [
    "def contarIteracciones(func):\n",
    "    def decorar(*args, **kwargs):\n",
    "        print(f\"Llamada a la función: {func.__name__}. Args: {args}, Kwargs: {kwargs}\")\n",
    "        print(f\"\\nEl número de iteraciones del bucle es {len(args)}\")\n",
    "        numeros = \"\"\n",
    "        for arg in args:\n",
    "            numeros += f\" {str(arg)}\"\n",
    "        print(f\"\\nLos números que se van a sumar son{numeros}\")\n",
    "        result = func(*args)\n",
    "        return result\n",
    "    return decorar\n",
    "\n",
    "@contarIteracciones\n",
    "def my_function(*args):\n",
    "    sumatorio = 0\n",
    "    for arg in args:\n",
    "        sumatorio += arg\n",
    "    return sumatorio\n",
    "\n",
    "#Como se puede comprobar aunque estemos invocando la función con valores nombrados(kwargs) y vaya a dar error porque la función no esta pensada para recibir tales valores\n",
    "#la función decorada que tiene encima es capaz de interferir absorviendo los valores, y volviendo a llamar a la función pero solo con los valores sin nombrar\n",
    "my_function(2,4,6,8,10,12,14,15,17,19,20, b=3)  \n",
    "\n",
    "\n",
    "    "
   ]
  },
  {
   "cell_type": "markdown",
   "metadata": {},
   "source": [
    "## Ejercicio 2\n",
    "\n",
    "Desarrolla un script en Python que convierta temperaturas entre Celsius y Fahrenheit.\n",
    "El script recibirá los datos de entrada a través de línea de comandos, los argumentos son:\n",
    "\n",
    "•\ttemp: El valor de temperatura a convertir (float). Parámetro obligatorio.\n",
    "\n",
    "•\tescala: el tipo de la temperatura de entrada (“C” para Celsius, “F” para Fahrenheit). Parámetro opcional, el valor por defecto será “C”.\n",
    "\n",
    "•\tEl script mostrará información sobre los parámetros cuando se use con la opción -h.\n",
    "\n",
    "Crea 2 funciones de conversión y puedes llamarlas desde el main.\n",
    "\n",
    "#### Ejemplo de ejecución:\n",
    "<pre>\n",
    "$ python3 temperature_converter.py -h\n",
    "usage: temperature_converter.py [-h] [--temp TEMP] [--scale {C,F}]\n",
    "Conversor de temperatura options:\n",
    "-h, --help\tshow this help message and exit\n",
    "--temp TEMP\tValor de temperatura a convertir.\n",
    "--scale {C,F}  Escala de la temperatura de entrada (C or F). Opcional - Valor por defecto: C\n",
    "\n",
    "</pre>"
   ]
  },
  {
   "cell_type": "code",
   "execution_count": null,
   "metadata": {},
   "outputs": [],
   "source": [
    "import argparse\n",
    "\n",
    "def convertir_de_C_a_F(temp):\n",
    "    return f\"{temp}º Celsius son equivalentes a {(temp * 1.8 + 32)}º Fahrenheit\"\n",
    "\n",
    "convertir_de_F_a_C = lambda temp: (f\"{temp}º Fahrenheit son equivalentes a {(temp - 32) * 5/9}º Celsius\")\n",
    "\n",
    "if __name__ == \"__main__\":\n",
    "    parser = argparse.ArgumentParser(description='Conversor de temperatura')\n",
    "    parser.add_argument('--temp', type=float, required=True, help='Valor de temperatura a convertir.')\n",
    "    parser.add_argument('--scale', type=str, choices=['C', 'F'], default='C', help='Escala de la temperatura de entrada (C o F). Opcional - Valor por defecto: C')\n",
    "\n",
    "    args = parser.parse_args()\n",
    "\n",
    "    if args.scale == 'C':\n",
    "        print(convertir_de_C_a_F(args.temp))\n",
    "    else:\n",
    "        print(convertir_de_F_a_C(args.temp))  \n"
   ]
  },
  {
   "cell_type": "markdown",
   "metadata": {},
   "source": [
    "## Ejercicio 3\n",
    "\n",
    "Basándote en el código del Ejercicio 7 de **05_Ejercicios_tipicos2.ipynb** implementa un generador en Python que reciba como parámetro un valor entero \"n\" y genere los primeros números de Fibonacci. \n",
    "\n"
   ]
  },
  {
   "cell_type": "code",
   "execution_count": null,
   "metadata": {},
   "outputs": [],
   "source": [
    "import argparse\n",
    "\n",
    "def fibonacci(contador):\n",
    "    x = 0\n",
    "    y = 1\n",
    "    for i in range(0,contador):\n",
    "        if i % 2 == 0:\n",
    "            yield x\n",
    "            x = x + y\n",
    "        else:\n",
    "            yield y\n",
    "            y = y + x\n",
    "\n",
    "if __name__ == \"__main__\":\n",
    "    parser = argparse.ArgumentParser(description='Fibonacci')\n",
    "    parser.add_argument('--num', type=int, required=True, help='Cuantos numeros de la serie Fibonacci queremos mostrar.')\n",
    "\n",
    "    args = parser.parse_args()\n",
    "\n",
    "    for num in fibonacci(args.num):\n",
    "        print(num, end=\" \")"
   ]
  },
  {
   "cell_type": "markdown",
   "metadata": {},
   "source": [
    "## Ejercicio 4\n",
    "\n",
    "### Crea ahora un archivo Python  donde importes los ejercicios 2 y 3 como módulos. \n",
    "Ejecuta el programa solo con los imports.\n",
    "\n",
    "Responde: ¿Se ha ejecutado algo? Al ejecutar el py con los archivos importados no muestra nada pero genera un __pycache__ con los python que hemos creado anteriormente\n",
    "\n",
    "\n",
    "Realiza ahora un menú en modo texto con las siguientes opciones para el usuario, utilizando las funciones antes creadas:\n",
    "\n",
    "<pre>\n",
    "    1. Calcular la secuencia de Fibonacci hasta un número\n",
    "    2. Convertir temperatura de ºC ºF\n",
    "    3. Salir\n",
    "<pre>\n"
   ]
  },
  {
   "cell_type": "code",
   "execution_count": null,
   "metadata": {},
   "outputs": [],
   "source": [
    "import fibonacci,temperature_converter\n",
    "\n",
    "\n",
    "def mostrar_menu():\n",
    "    print(\"Seleccione una opción:\")\n",
    "    print(\"1. Calcular la secuencia de Fibonacci hasta un número\")\n",
    "    print(\"2. Convertir temperatura de ºC a ºF\")\n",
    "    print(\"3. Salir\")\n",
    "\n",
    "if __name__ == \"__main__\":\n",
    "    while True:\n",
    "        mostrar_menu()\n",
    "        opcion = input(\"Ingrese su opción: \")\n",
    "\n",
    "        if opcion == '1':\n",
    "            numero = int(input(\"Ingrese un número: \"))\n",
    "            resultado = fibonacci.fibonacci(numero) \n",
    "            print(f\"La secuencia de Fibonacci hasta {numero} es: \", end=\"\")\n",
    "            for num in resultado:\n",
    "                print(num, end=\" \")\n",
    "            print(\"\")\n",
    "        elif opcion == '2':\n",
    "\n",
    "            escala = input(\"Introduzca F para convertir de Fahrenheit a Celsius(Si no introduces nada o tecleas C usa Celsius)\")\n",
    "            while escala !=\"\" and escala.upper() !=\"C\" and escala.upper() !=\"F\":\n",
    "                escala = input(\"Introduzca F para convertir de Fahrenheit a Celsius(Por defecto convierte de Celsius a Fahrenheit)\")\n",
    "            temp = float(input(\"Ingrese la temperatura en º: \"))\n",
    "\n",
    "            if escala == \"\" or escala == \"C\":\n",
    "                print(temperature_converter.convertir_de_C_a_F(temp))\n",
    "            else:\n",
    "                print(temperature_converter.convertir_de_F_a_C(temp))\n",
    "            \n",
    "        elif opcion == '3':\n",
    "            print(\"Saliendo del programa...\")\n",
    "            break\n",
    "        else:\n",
    "            print(\"Opción no válida. Intente de nuevo.\")\n",
    "\n",
    "        input(\"Presione enter para continuar \")\n",
    "    "
   ]
  }
 ],
 "metadata": {
  "kernelspec": {
   "display_name": ".venv",
   "language": "python",
   "name": "python3"
  },
  "language_info": {
   "codemirror_mode": {
    "name": "ipython",
    "version": 3
   },
   "file_extension": ".py",
   "mimetype": "text/x-python",
   "name": "python",
   "nbconvert_exporter": "python",
   "pygments_lexer": "ipython3",
   "version": "3.13.0"
  }
 },
 "nbformat": 4,
 "nbformat_minor": 4
}
