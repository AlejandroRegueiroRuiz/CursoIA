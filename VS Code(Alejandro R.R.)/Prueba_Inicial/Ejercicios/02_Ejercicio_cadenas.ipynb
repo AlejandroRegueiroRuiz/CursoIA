{
 "cells": [
  {
   "cell_type": "markdown",
   "metadata": {
    "id": "bQyQiir5Uwup"
   },
   "source": [
    "# *Ejercicios con cadenas*"
   ]
  },
  {
   "cell_type": "markdown",
   "metadata": {},
   "source": [
    "- #### Autor: Alejandro Regueiro Ruiz"
   ]
  },
  {
   "cell_type": "markdown",
   "metadata": {
    "id": "bpZRyKs8VeRA"
   },
   "source": [
    "### 1º Visualizar por consola un texto introducido por teclado"
   ]
  },
  {
   "cell_type": "code",
   "execution_count": 3,
   "metadata": {
    "colab": {
     "base_uri": "https://localhost:8080/",
     "height": 55
    },
    "id": "XaR06ewMVqnL",
    "outputId": "b3550cab-46f0-4c9c-8b45-ab1117427bf9"
   },
   "outputs": [
    {
     "name": "stdout",
     "output_type": "stream",
     "text": [
      "hola\n"
     ]
    }
   ],
   "source": [
    "print(input())\n"
   ]
  },
  {
   "cell_type": "markdown",
   "metadata": {
    "id": "6gvhWFXwWqaZ"
   },
   "source": [
    "### 2º Introducir por teclado una cadena y una subcadena y verificar si la subcadena está contenida en la cadena."
   ]
  },
  {
   "cell_type": "code",
   "execution_count": 5,
   "metadata": {
    "colab": {
     "base_uri": "https://localhost:8080/"
    },
    "id": "tZqK7jqQXCXh",
    "outputId": "d0e24842-0a34-4a08-e566-97bd179ade0f"
   },
   "outputs": [
    {
     "name": "stdout",
     "output_type": "stream",
     "text": [
      "False\n"
     ]
    }
   ],
   "source": [
    "cadena = input(\"Introduce una cadena:\")\n",
    "subcadena = input(f\"Introduce una subcadena de \\'{cadena}\\'\")\n",
    "\n",
    "print(cadena.__contains__(subcadena))\n",
    "\n"
   ]
  },
  {
   "cell_type": "markdown",
   "metadata": {
    "id": "OMWnyG-_XJJI"
   },
   "source": [
    "### 3º Introducir una cadena por teclado y un carácter por teclado (valida que sea un carácter) y mostrar las veces que aparece el carácter en la cadena."
   ]
  },
  {
   "cell_type": "code",
   "execution_count": 8,
   "metadata": {
    "colab": {
     "base_uri": "https://localhost:8080/"
    },
    "id": "syv03EZDXcfx",
    "outputId": "16c30663-3614-4ca9-bbde-789fd3c44d79"
   },
   "outputs": [
    {
     "name": "stdout",
     "output_type": "stream",
     "text": [
      "4\n"
     ]
    }
   ],
   "source": [
    "cadena = input(\"Introduce una cadena: \")\n",
    "caracter = input(\"Introduce una cadena: \")\n",
    "\n",
    "while caracter.__len__() < 1 or caracter.__len__() > 1:\n",
    "    caracter = input(\"Introduce una cadena: \")\n",
    "\n",
    "print(cadena.count(caracter))\n"
   ]
  },
  {
   "cell_type": "markdown",
   "metadata": {
    "id": "DU_EKW21YGWa"
   },
   "source": [
    "### 4º Introducir una frase por teclado y contar el número de palabras que contiene."
   ]
  },
  {
   "cell_type": "code",
   "execution_count": 3,
   "metadata": {
    "colab": {
     "base_uri": "https://localhost:8080/"
    },
    "id": "IChGoYRHYSlp",
    "outputId": "201c7e2f-e57f-4a80-b214-a4f4289b9daf"
   },
   "outputs": [
    {
     "name": "stdout",
     "output_type": "stream",
     "text": [
      "8\n"
     ]
    }
   ],
   "source": [
    "cadena = input(\"Introduce una cadena: \")\n",
    "array = cadena.split()\n",
    "print(array.__len__())\n"
   ]
  },
  {
   "cell_type": "markdown",
   "metadata": {
    "id": "_cFhlSIlYVtq"
   },
   "source": [
    "### 5º Introducir por teclado una cadena con un nombre y apellidos, realizar un programa que muestre las iniciales en mayúsculas."
   ]
  },
  {
   "cell_type": "code",
   "execution_count": 7,
   "metadata": {
    "colab": {
     "base_uri": "https://localhost:8080/"
    },
    "id": "BQLsZJp3YwJp",
    "outputId": "9572597f-2976-4cf8-eaf3-1fc0248bd27e"
   },
   "outputs": [
    {
     "name": "stdout",
     "output_type": "stream",
     "text": [
      "['A', 'R', 'R']\n"
     ]
    }
   ],
   "source": [
    "cadena = input(\"Introduce nombre y apellidos: \")\n",
    "array = cadena.split()\n",
    "inicial = [c[0].upper() for c in array]\n",
    "print(inicial)\n",
    "\n"
   ]
  },
  {
   "cell_type": "markdown",
   "metadata": {
    "id": "89LA4y9kYwsY"
   },
   "source": [
    "### 6º Introducir una cadena y dos caracteres por teclado (valida que sea un carácter), sustituir la aparición del primer carácter en la cadena por el segundo carácter."
   ]
  },
  {
   "cell_type": "code",
   "execution_count": 8,
   "metadata": {
    "colab": {
     "base_uri": "https://localhost:8080/",
     "height": 92
    },
    "id": "TgqhkPlZZIFp",
    "outputId": "f73cd172-2ed8-4ea5-855f-958c02697e55"
   },
   "outputs": [
    {
     "name": "stdout",
     "output_type": "stream",
     "text": [
      "hala munda\n"
     ]
    }
   ],
   "source": [
    "cadena = input(\"Introduce una cadena: \")\n",
    "caracter1 = input(\"Introduce una cadena: \")\n",
    "caracter2 = input(\"Introduce una cadena: \")\n",
    "\n",
    "print(cadena.replace(caracter1,caracter2))\n"
   ]
  },
  {
   "cell_type": "markdown",
   "metadata": {
    "id": "8pC85uRKO31B"
   },
   "source": [
    "### 7º Utilizar la función print() y el salto de linea para obtener el siguiente texto:\n",
    "\n",
    "Con diez cañones por banda,<br>\n",
    "viento en popa a toda vela,<br>\n",
    "no corta el mar, sino vuela<br>\n",
    "un velero bergantín;"
   ]
  },
  {
   "cell_type": "code",
   "execution_count": 11,
   "metadata": {
    "colab": {
     "base_uri": "https://localhost:8080/"
    },
    "id": "ZZmckYgmRagx",
    "outputId": "54b741e8-ed47-4430-fb5d-7cd734d55748"
   },
   "outputs": [
    {
     "name": "stdout",
     "output_type": "stream",
     "text": [
      "Con diez cañones por banda,\n",
      "viento en popa a toda vela,\n",
      "no corta el mar,sino vuela\n",
      "un velero bergantín;\n"
     ]
    }
   ],
   "source": [
    "print(\"Con diez cañones por banda,\\nviento en popa a toda vela,\\nno corta el mar,sino vuela\\nun velero bergantín;\")\n"
   ]
  },
  {
   "cell_type": "markdown",
   "metadata": {
    "id": "UC40WZFYR3Ow"
   },
   "source": [
    "### 8º Mediante la función input() solicitar una frase por consola y seguidamente una vocal, imprimir la frase por consola con la vocal introducida a mayúsculas"
   ]
  },
  {
   "cell_type": "code",
   "execution_count": 12,
   "metadata": {
    "colab": {
     "base_uri": "https://localhost:8080/"
    },
    "id": "LRgRaCi6SaGa",
    "outputId": "089c5b75-0a4a-4e2b-f194-0b689150ef2c"
   },
   "outputs": [
    {
     "name": "stdout",
     "output_type": "stream",
     "text": [
      "buenAs A todos los Alumnos\n"
     ]
    }
   ],
   "source": [
    "cadena = input(\"Introduce una frase: \")\n",
    "caracter = input(\"Introduce una vocal: \")\n",
    "\n",
    "while caracter.lower() != \"a\" and caracter.lower() != \"e\" and caracter.lower() != \"i\" and caracter.lower() != \"o\" and caracter.lower() != \"u\":\n",
    "    caracter = input(\"Introduce una vocal: \")\n",
    "print(cadena.replace(caracter,caracter.upper()))\n"
   ]
  },
  {
   "cell_type": "markdown",
   "metadata": {
    "id": "ZFYDY9wfTZ51"
   },
   "source": [
    "### 9º Introduce una frase por teclado y seguidamente pide dos números, también por teclado, visualiza por consola la subcadena que empieza en la posición del primer número en la frase y termina en el segundo número en la frase"
   ]
  },
  {
   "cell_type": "code",
   "execution_count": null,
   "metadata": {
    "colab": {
     "base_uri": "https://localhost:8080/",
     "height": 92
    },
    "id": "91aIzlGmTgd6",
    "outputId": "a25303ee-20f4-4b50-ca26-acab6820b6cc"
   },
   "outputs": [
    {
     "name": "stdout",
     "output_type": "stream",
     "text": [
      "ola a todos\n"
     ]
    }
   ],
   "source": [
    "cadena = input(\"Introduce una frase: \")\n",
    "numero1 = int(input(\"Introduce un numero: \"))\n",
    "numero2 = int(input(\"Introduce un numero: \"))\n",
    "\n",
    "print(cadena[numero1:numero2+1])\n"
   ]
  },
  {
   "cell_type": "markdown",
   "metadata": {
    "id": "iLZsliARTpaO"
   },
   "source": [
    "### 10º Solicitar por teclado una cuenta de correo electrónico. Separar en dos variables el nombre de usuario y el dominio. Visualizar por consola el texto: El nombre de usuario es <> y su dominio es <>, sustituyendo los parentesis angulares por cada una de las variables."
   ]
  },
  {
   "cell_type": "code",
   "execution_count": 24,
   "metadata": {
    "colab": {
     "base_uri": "https://localhost:8080/"
    },
    "id": "Vk3GQjLZUGrh",
    "outputId": "b5b24620-8826-437d-998e-a4b31ea395ef"
   },
   "outputs": [
    {
     "name": "stdout",
     "output_type": "stream",
     "text": [
      "El nombre de usuario es alejandro\n",
      "El dominio es gmail.com\n"
     ]
    }
   ],
   "source": [
    "cadena = input(\"Introduce una dirección electrónica: \")\n",
    "cadena = cadena.replace(\"@\",\" \")\n",
    "array = cadena.split()\n",
    "print(f\"El nombre de usuario es {array[0]}\")\n",
    "print(f\"El dominio es {array[1]}\")\n"
   ]
  }
 ],
 "metadata": {
  "colab": {
   "collapsed_sections": [],
   "provenance": []
  },
  "kernelspec": {
   "display_name": ".venv",
   "language": "python",
   "name": "python3"
  },
  "language_info": {
   "codemirror_mode": {
    "name": "ipython",
    "version": 3
   },
   "file_extension": ".py",
   "mimetype": "text/x-python",
   "name": "python",
   "nbconvert_exporter": "python",
   "pygments_lexer": "ipython3",
   "version": "3.13.0"
  }
 },
 "nbformat": 4,
 "nbformat_minor": 0
}
