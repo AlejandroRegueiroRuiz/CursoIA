{
 "cells": [
  {
   "cell_type": "markdown",
   "metadata": {
    "id": "AduvH5ts7Kqh"
   },
   "source": [
    "<center>\n",
    "<h1 style=\"color: #007BC4;\">Python</h1> \n",
    "<h3 style=\"color: #333333;\">Ejercicios Estructuras de datos I</h3> \n",
    "</center>\n",
    "\n",
    "<br>"
   ]
  },
  {
   "cell_type": "markdown",
   "metadata": {},
   "source": [
    "#### Autor: Alejandro Regueiro Ruiz"
   ]
  },
  {
   "cell_type": "markdown",
   "metadata": {
    "id": "sG-RH1ND-RzO"
   },
   "source": [
    "### 1. Haz que el usuario introduzca un texto y apartir de él crea un diccionario con las frecuencias de aparición de cada uno de los caracteres excepto el espacio en blanco.\n",
    "\n",
    "Por ejemplo: si el usuario introduce \"Hola mundo\", el dicccionario a crear y visualizar sería\n",
    "\n",
    "    { \"H\":1/9, \"o\":2/9, \"l\":1/9, \"a\":1/9, \"m\":1/9, \"u\":1/9, \"n\":1/9, \"d\":1/9 }\n",
    "\n",
    "también vale 1/9 = 0.111 y 2/9 = 0.222\n"
   ]
  },
  {
   "cell_type": "code",
   "execution_count": 46,
   "metadata": {
    "id": "XzHnRnN87IK4"
   },
   "outputs": [
    {
     "name": "stdout",
     "output_type": "stream",
     "text": [
      "{'H': 0.04, 'o': 0.24000000000000002, 'l': 0.12, 'a': 0.08, 'm': 0.12, 'u': 0.04, 'n': 0.12, 'd': 0.04, 'e': 0.08, 'J': 0.04, 's': 0.04, 'A': 0.04, 't': 0.04, 'i': 0.04}\n"
     ]
    }
   ],
   "source": [
    "# respuesta\n",
    "cadena = \"Hola mundo me llamo Jose Antonio\"\n",
    "cadena = cadena.split()\n",
    "cadena = \"\".join(cadena)\n",
    "dic = {}\n",
    "for char in list(cadena):\n",
    "    if char in dic:\n",
    "        dic[char] += float(\"{:.2f}\".format(1/len(cadena)))\n",
    "    else:\n",
    "        dic[char] = float(\"{:.2f}\".format(1/len(cadena)))\n",
    "print(dic)"
   ]
  },
  {
   "cell_type": "markdown",
   "metadata": {
    "id": "X2h4hDVCAZmz"
   },
   "source": [
    "### 2. A partir del ejercicio anterior, lista los caracteres según el orden de sus frecuencias, el más frecuente primero.\n",
    "\n",
    "Observa que no tienes que reperir el ejercicio anterior, sólo reusar sus variables."
   ]
  },
  {
   "cell_type": "code",
   "execution_count": 47,
   "metadata": {
    "id": "ZcJ0yVD3AwbP"
   },
   "outputs": [
    {
     "name": "stdout",
     "output_type": "stream",
     "text": [
      "o l m n a e H u d J s A t i "
     ]
    }
   ],
   "source": [
    "# respuesta\n",
    "dicOrdenado = sorted(dic.items(), key=lambda x: x[1], reverse=True)\n",
    "for caracter in dicOrdenado:\n",
    "    print(caracter[0], end=\" \")\n"
   ]
  },
  {
   "cell_type": "markdown",
   "metadata": {
    "id": "oMCnVnUsBUsd"
   },
   "source": [
    "### 3. Lee un fichero de texto, línea por línea, teniendo cada una de ellas el siguiente formato\n",
    "\n",
    "    apellidos, nombre = teléfono\n",
    "\n",
    "Introduce esta información en un diccionario que tenga como clave \"*apellidos, nombre*\" y valor \"*teléfono*\". Elimina espacios en blanco innecesarios.\n",
    "\n",
    "**Atención**: *contempla que \"apellidos, nombre\" puede aparecer más de una vez y por tanto tener más de un \"teléfono\".*"
   ]
  },
  {
   "cell_type": "code",
   "execution_count": 7,
   "metadata": {
    "id": "79_TSspzCO62"
   },
   "outputs": [
    {
     "name": "stdout",
     "output_type": "stream",
     "text": [
      "{'612345678': 'Garcia Perez, Juan', '623456789': 'Garcia, Ana', '634567890': 'Lopez Martinez, Maria', '645678901': 'Fernandez, Carlos', '612345654': 'Garcia Perez, Juan', '656789012': 'Martinez, Laura', '667890123': 'Sanchez, Pedro', '678901234': 'Torres Sofia, Diaz', '689012345': 'Diaz, Luis', '690123456': 'Morales Elena, Ruiz', '612342378': 'Garcia Perez, Juan', '601234567': 'Ruiz, Javier', '612345679': 'Gonzalez Lopez, Ana', '623456780': 'Ramirez Garcia, Sofia', '634567891': 'Herrera, Luis', '645678902': 'Castro, Elena', '656789013': 'Ortega, Pedro'}\n"
     ]
    }
   ],
   "source": [
    "# respuesta\n",
    "contactos = {}\n",
    "\n",
    "with open('gente.txt', 'r') as archivo:\n",
    "    for linea in archivo:\n",
    "        linea = linea.strip()\n",
    "        if '=' in linea:\n",
    "            parte_nombre, telefono = linea.split('=')\n",
    "            nombre = parte_nombre.strip()\n",
    "            telefono = telefono.strip()\n",
    "            contactos[telefono] = nombre\n",
    "\n",
    "print(contactos)"
   ]
  },
  {
   "cell_type": "markdown",
   "metadata": {
    "id": "taWJRYkhCsUe"
   },
   "source": [
    "### 4. Partiendo del ejercicio anterior, crea una estructura compleja.\n",
    "\n",
    "Lee el mismo fichero de texto, con el mismo contenido, pero crea una estructura de datos más compleja. \n",
    "\n",
    "Por ejemplo, para un fichero conteniendo:\n",
    "\n",
    "    Pérez López, Ana = 981234567\n",
    "    Pérez López, Manuel = 675897867\n",
    "    Calvo Amado, María = 985894523\n",
    "\n",
    "Deberías generar una estructura como la siguiente:\n",
    "\n",
    "    { \"Pérez López\": { \"Ana\":[981234567], \"Manuel\":675897867] }, \"Calvo Amado\": { \"María\":[985894523] } }\n",
    "\n",
    "Esto es: un diccionario con la estructura \\<apellidos>:\\<valor>, donde \\<valor> es a su vez un diccionario con la estructura \\<nombre>:\\<valor>, donde \\<valor> a su vez es una lista de teléfonos.\n"
   ]
  },
  {
   "cell_type": "code",
   "execution_count": null,
   "metadata": {
    "id": "m9slJeaiEUN2"
   },
   "outputs": [
    {
     "name": "stdout",
     "output_type": "stream",
     "text": [
      "{'Garcia Perez': {'Juan': ['612345678', '612345654', '612342378'], 'Samanta': ['684795214']}, 'Garcia': {'Ana': ['623456789']}, 'Lopez Martinez': {'Maria': ['634567890']}, 'Fernandez': {'Carlos': ['645678901']}, 'Martinez': {'Laura': ['656789012']}, 'Sanchez': {'Pedro': ['667890123']}, 'Torres Sofia': {'Diaz': ['678901234']}, 'Diaz': {'Luis': ['689012345']}, 'Morales Elena': {'Ruiz': ['690123456']}, 'Ruiz': {'Javier': ['601234567']}, 'Gonzalez Lopez': {'Ana': ['612345679']}, 'Ramirez Garcia': {'Sofia': ['623456780']}, 'Herrera': {'Luis': ['634567891']}, 'Castro': {'Elena': ['645678902']}, 'Ortega': {'Pedro': ['656789013']}}\n"
     ]
    }
   ],
   "source": [
    "# respuesta\n",
    "\n",
    "\n",
    "contactos2 = {}\n",
    "\n",
    "with open('gente.txt', 'r') as archivo:\n",
    "    for linea in archivo:\n",
    "        linea = linea.strip()\n",
    "        if '=' in linea:\n",
    "            parte_nombre, telefono = linea.split('=')\n",
    "            apellidos, nombre = parte_nombre.split(',')\n",
    "\n",
    "            apellidos = apellidos.strip()\n",
    "            nombre = nombre.strip()\n",
    "            telefono = telefono.strip()\n",
    "\n",
    "            if apellidos in contactos2:\n",
    "                if nombre in contactos2[apellidos]:\n",
    "                    contactos2[apellidos][nombre] += [telefono]\n",
    "                else:\n",
    "                    contactos2[apellidos][nombre] = [telefono]\n",
    "            else:\n",
    "                contactos2[apellidos] = {nombre:[telefono]}\n",
    "\n",
    "print(contactos2)"
   ]
  },
  {
   "cell_type": "markdown",
   "metadata": {
    "id": "yihOZqkbFPdH"
   },
   "source": [
    "### 5. A partir de la estructura de datos que has creado en el ejercicio anterior, haz una función que reciba el diccionario y devuelva dos listas del mismo tamaño conteniendo, una \\<apellidos, nombre> y otra \\<teléfono>.\n",
    "\n",
    "**Atención**: cuidado con las personas con más de un teléfono."
   ]
  },
  {
   "cell_type": "code",
   "execution_count": 96,
   "metadata": {
    "id": "3A83CfvdIA4z"
   },
   "outputs": [
    {
     "name": "stdout",
     "output_type": "stream",
     "text": [
      "[]\n",
      "[]\n",
      "18 ['Garcia Perez, Juan', 'Garcia Perez, Juan', 'Garcia Perez, Juan', 'Garcia Perez, Samanta', 'Garcia, Ana', 'Lopez Martinez, Maria', 'Fernandez, Carlos', 'Martinez, Laura', 'Sanchez, Pedro', 'Torres Sofia, Diaz', 'Diaz, Luis', 'Morales Elena, Ruiz', 'Ruiz, Javier', 'Gonzalez Lopez, Ana', 'Ramirez Garcia, Sofia', 'Herrera, Luis', 'Castro, Elena', 'Ortega, Pedro']\n",
      "18 ['612345678', '612345654', '612342378', '684795214', '623456789', '634567890', '645678901', '656789012', '667890123', '678901234', '689012345', '690123456', '601234567', '612345679', '623456780', '634567891', '645678902', '656789013']\n"
     ]
    }
   ],
   "source": [
    "def recibirDiccionario(contacts2):\n",
    "    lista_nom = []\n",
    "    lista_tel = []\n",
    "\n",
    "    lista_nom.clear()\n",
    "    lista_tel.clear()\n",
    "    print(lista_nom)\n",
    "    print(lista_tel)\n",
    "    for contact in contacts2.items():\n",
    "        for items in contact:\n",
    "            if type(items) == dict:\n",
    "                for name in items.items():\n",
    "                    for i in range(0,len(name[1])):\n",
    "                        lista_nom.append(f\"{apellidos}, {name[0]}\")\n",
    "                    for tel in name[1]:\n",
    "                        lista_tel.append(tel)\n",
    "\n",
    "            else:\n",
    "                apellidos = items\n",
    "    print(len(lista_nom),lista_nom)\n",
    "    print(len(lista_tel),lista_tel)\n",
    "             \n",
    "recibirDiccionario(contactos2)\n",
    "\n",
    "# sorted(dic.items(), key=lambda x: x[1], reverse=True\n",
    "        "
   ]
  },
  {
   "cell_type": "markdown",
   "metadata": {
    "id": "waLLa3N8Iw22"
   },
   "source": [
    "### 6. Dado el siguiente código"
   ]
  },
  {
   "cell_type": "code",
   "execution_count": null,
   "metadata": {
    "colab": {
     "base_uri": "https://localhost:8080/"
    },
    "id": "CFds3dfAIz0v",
    "outputId": "dfc8283e-45fc-43f8-f978-62d0b1fbae2d"
   },
   "outputs": [
    {
     "data": {
      "text/plain": [
       "False"
      ]
     },
     "execution_count": 1,
     "metadata": {},
     "output_type": "execute_result"
    }
   ],
   "source": [
    "a=3\n",
    "b=a\n",
    "a=4\n",
    "a==b"
   ]
  },
  {
   "cell_type": "code",
   "execution_count": null,
   "metadata": {
    "colab": {
     "base_uri": "https://localhost:8080/"
    },
    "id": "Vc-b7CiDI4vD",
    "outputId": "0abc7a16-6021-48a7-f33c-bf149783fc49"
   },
   "outputs": [
    {
     "data": {
      "text/plain": [
       "True"
      ]
     },
     "execution_count": 2,
     "metadata": {},
     "output_type": "execute_result"
    }
   ],
   "source": [
    "a=[1,2]\n",
    "b=a\n",
    "a[0]=2\n",
    "a==b"
   ]
  },
  {
   "cell_type": "markdown",
   "metadata": {
    "id": "iNVcF_nlJE4T"
   },
   "source": [
    "Explica por qué hay esta diferencia si el patrón es el mismo.\n",
    "\n",
    "Respuesta:\n",
    "En el primer ejemplo la asignación de las variables \"a\" y \"b\" son inmutables, por lo tanto, cuando le das a \"b\" el valor de \"a\" se asigna en una nueva unidad de memoria y al cambiar el valor de \"a\"(en este caso a 4) \"b\" que esta en otra unidad sigue manteniendo el valor inicial que se le introdujo(3), 4 es distinto de 3 por lo tanto FALSE.\n",
    "En el segundo ejemplo la asignación de las variables se hace con una lista, y al ser mutables, cuando asociamos el valor de \"b\" al ser el mismo que el de \"a\", en vez de crear una nueva unidad de memoria \"b\" está apuntando a la misma que \"a\", por lo tanto si modificamos el valor de \"a\" estaremos cambiando el valor de \"b\" también. Y nos queda una comparativa de [2,2]==[2,2] TRUE\n",
    "\n",
    "\n"
   ]
  },
  {
   "cell_type": "markdown",
   "metadata": {
    "id": "FOWd-LX4Kt95"
   },
   "source": [
    "### 7. Dada la estructura compleja del ejercicio 4, crea un fichero JSON y haz que su contenido sea dicha estructura.\n",
    "\n",
    "[Documentación oficial](https://docs.python.org/es/3/library/json.html)"
   ]
  },
  {
   "cell_type": "code",
   "execution_count": 98,
   "metadata": {
    "id": "dGmFR830K7Zf"
   },
   "outputs": [],
   "source": [
    "import json\n",
    "# respuesta\n",
    "json_str = json.dumps(contactos2)\n",
    "\n",
    "with open('datos.json', 'w') as f:\n",
    "    f.write(json_str)"
   ]
  }
 ],
 "metadata": {
  "colab": {
   "collapsed_sections": [],
   "provenance": []
  },
  "kernelspec": {
   "display_name": ".venv",
   "language": "python",
   "name": "python3"
  },
  "language_info": {
   "codemirror_mode": {
    "name": "ipython",
    "version": 3
   },
   "file_extension": ".py",
   "mimetype": "text/x-python",
   "name": "python",
   "nbconvert_exporter": "python",
   "pygments_lexer": "ipython3",
   "version": "3.13.0"
  }
 },
 "nbformat": 4,
 "nbformat_minor": 0
}
