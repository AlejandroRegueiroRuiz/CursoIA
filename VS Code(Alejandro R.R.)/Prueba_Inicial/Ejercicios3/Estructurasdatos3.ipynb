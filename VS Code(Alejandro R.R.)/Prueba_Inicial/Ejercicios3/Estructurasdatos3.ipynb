{
 "cells": [
  {
   "cell_type": "markdown",
   "metadata": {
    "id": "AOVhIYq2YwAg"
   },
   "source": [
    "<center>\n",
    "<h1 style=\"color: #007BC4;\">Python</h1> \n",
    "<h3 style=\"color: #333333;\">Ejercicios Estructuras de datos III</h3> \n",
    "</center>\n",
    "\n",
    "<br>\n"
   ]
  },
  {
   "cell_type": "markdown",
   "metadata": {},
   "source": [
    "#### Autor: escribir aquí el nombre del autor"
   ]
  },
  {
   "cell_type": "markdown",
   "metadata": {
    "id": "bcyLTkBIdvuj"
   },
   "source": [
    "### 1. Calcula el módulo de un vector de $n$ elementos, introducidos por teclado.\n",
    "\n",
    "Sea $\\vec{x}=(v_1,v_2, ..., v_n)$ entonces $ |\\vec{x}|=\\sqrt{v_1²+v_2²+ ... +v_n²} $\n",
    "\n"
   ]
  },
  {
   "cell_type": "code",
   "execution_count": 11,
   "metadata": {
    "colab": {
     "base_uri": "https://localhost:8080/"
    },
    "id": "400yNqbMgl6Q",
    "outputId": "f76c9547-fdd0-4d24-99a6-42c130be419f"
   },
   "outputs": [
    {
     "name": "stdout",
     "output_type": "stream",
     "text": [
      "saliendo del bucle\n",
      "321319.90+0.00j\n"
     ]
    }
   ],
   "source": [
    "import cmath\n",
    "lista_num = []\n",
    "try:\n",
    "    num = input(\"Introduce un número (ENTER para finalizar): \")\n",
    "    lista_num.append(int(num) ** 2)\n",
    "    while num != \"\":\n",
    "        num = input(\"Introduce un número (ENTER para finalizar): \")\n",
    "        try:\n",
    "            lista_num.append(int(num) ** 2)\n",
    "        except:\n",
    "            print(\"saliendo del bucle\") \n",
    "    vector = cmath.sqrt(sum(lista_num))\n",
    "    print(f\"{vector:.2f}\")\n",
    "except:\n",
    "    print(\"Hubo un error, asegurate de introducir solo números\")\n",
    "    \n"
   ]
  },
  {
   "cell_type": "markdown",
   "metadata": {
    "id": "a_R5LVwDgmxz"
   },
   "source": [
    "### 2. Crea una función a la que le pasas una lista de caracteres (string) y devuelve si es un palíndromo o no"
   ]
  },
  {
   "cell_type": "code",
   "execution_count": null,
   "metadata": {
    "colab": {
     "base_uri": "https://localhost:8080/"
    },
    "id": "Y_sXGqPyg7Dq",
    "outputId": "e276397a-1304-4472-fd62-da72a93c5dfd"
   },
   "outputs": [
    {
     "name": "stdout",
     "output_type": "stream",
     "text": [
      "La palabra introducida es un palíndromo\n"
     ]
    }
   ],
   "source": [
    "def comprobar_palindromo(pal):\n",
    "    return bool(pal == pal[::-1])\n",
    "\n",
    "palabra = input(\"Introduce una palabra: \")\n",
    "\n",
    "if comprobar_palindromo(palabra):\n",
    "    print(\"La palabra introducida es un palíndromo\")\n",
    "else:\n",
    "    print(\"La palabra introducida no es un palíndromo\")\n",
    "\n",
    "\n"
   ]
  },
  {
   "cell_type": "markdown",
   "metadata": {
    "id": "wsa-auaig8mD"
   },
   "source": [
    "### 3. Crea una función que recibe una lista de números y devuelve dos listas (una tupla), una con los números pares y otra con los impares."
   ]
  },
  {
   "cell_type": "code",
   "execution_count": 13,
   "metadata": {
    "colab": {
     "base_uri": "https://localhost:8080/"
    },
    "id": "RIGcBEmFhM5F",
    "outputId": "97e37651-0b7c-4169-b401-2a83dc0fa8e7"
   },
   "outputs": [
    {
     "name": "stdout",
     "output_type": "stream",
     "text": [
      "([2, 4, 6, 8, 10], [1, 3, 5, 7, 9])\n"
     ]
    }
   ],
   "source": [
    "def distribuir_par_impar(list):\n",
    "    list_par = []\n",
    "    list_impar = []\n",
    "    for num in list:\n",
    "        if num % 2 == 0:\n",
    "            list_par.append(num)\n",
    "        else:\n",
    "            list_impar.append(num)\n",
    "    return(list_par,list_impar)\n",
    "\n",
    "list_numeros = [1,2,3,4,5,6,7,8,9,10]\n",
    "\n",
    "print(distribuir_par_impar(list_numeros))\n",
    "\n",
    "\n"
   ]
  },
  {
   "cell_type": "markdown",
   "metadata": {
    "id": "PW_ZVoYchr10"
   },
   "source": [
    "### Elabora un código que rellene de forma aleatoria una lista de 10 elementos y luego la ordene.\n",
    "Existen multitud de fuentes en Internet con la solución en Python del algoritmo Bubble Sort, resiste la tentación y hazlo por ti mismo.\n",
    "\n"
   ]
  },
  {
   "cell_type": "code",
   "execution_count": 17,
   "metadata": {
    "colab": {
     "base_uri": "https://localhost:8080/"
    },
    "id": "dlCbrsgmkY9j",
    "outputId": "66b076e2-87d8-4f17-eb69-266371ea677e"
   },
   "outputs": [
    {
     "name": "stdout",
     "output_type": "stream",
     "text": [
      "[20, 23, 24, 36, 56, 60, 71, 77, 80, 85]\n"
     ]
    }
   ],
   "source": [
    "import random\n",
    "\n",
    "def rellenar_lista(list):\n",
    "    for i in range(0,10):\n",
    "        list.append(random.randrange(0,100))\n",
    "\n",
    "def ordenar_lista(list):\n",
    "    list.sort()\n",
    "    print(list)\n",
    "lista = []\n",
    "\n",
    "rellenar_lista(lista)\n",
    "ordenar_lista(lista)"
   ]
  },
  {
   "cell_type": "markdown",
   "metadata": {
    "id": "dwFqJi41khAT"
   },
   "source": [
    "### 4. Elabora dos funciones (codificar, decodificar) que reciban un texto y una clave y que encripten/desencripten el texto usando la clave.\n",
    "Usa el método del [cifrado de sustitución por desplazamiento](https://es.wikipedia.org/wiki/Cifrado_C%C3%A9sar). La clave es un número $n$, sólo codificas letras y las sustituyes desplazando la letra $n$ veces. Por ejemplo, si la clave es 1, entonces $a$ pasa a ser $b$.\n",
    "\n",
    "Hazlo sólo para letras inglesas (26).\n"
   ]
  },
  {
   "cell_type": "code",
   "execution_count": 29,
   "metadata": {
    "colab": {
     "base_uri": "https://localhost:8080/"
    },
    "id": "OnQqyIPIkyTF",
    "outputId": "d5208665-c0b4-4b22-df44-49641cd115f8"
   },
   "outputs": [
    {
     "name": "stdout",
     "output_type": "stream",
     "text": [
      "Texto cifrado: krod pxqgr\n"
     ]
    }
   ],
   "source": [
    "\n",
    "def cifrado_cesar(texto, desplazamiento):\n",
    "    alfabeto = 'abcdefghijklmnopqrstuvwxyz'\n",
    "    \n",
    "    texto = texto.lower()\n",
    "    \n",
    "    texto_cifrado = \"\"\n",
    "    \n",
    "    for char in texto:\n",
    "        if char in alfabeto:\n",
    "            nueva_posicion = (alfabeto.index(char) + desplazamiento) % len(alfabeto)\n",
    "            texto_cifrado += alfabeto[nueva_posicion]\n",
    "        else:\n",
    "            texto_cifrado += char\n",
    "    \n",
    "    return texto_cifrado\n",
    "\n",
    "mensaje = \"Hola Mundo\"\n",
    "desplazamiento = 3\n",
    "mensaje_cifrado = cifrado_cesar(mensaje, desplazamiento)\n",
    "print(f\"Texto cifrado: {mensaje_cifrado}\")"
   ]
  },
  {
   "cell_type": "markdown",
   "metadata": {},
   "source": [
    "### 5. Realizar un programa que permita generar un ticket de compra. \n",
    "Un ticket podrá incluir varios productos (frutas en este caso) con la información del peso y el precio (peso x precio_por_kg).\n",
    "\n",
    "<pre>\n",
    "El listado de precios (precio por kg) se creará de forma estática en el programa con un diccionario:\n",
    "\n",
    "    pera\t\t1.25\n",
    "    naranja\t\t1.70\n",
    "    manzana\t\t1.55\n",
    "    kiwi\t\t2.90\n",
    "    mandarina\t\t1.19\n",
    "    fresa\t\t3.75\n",
    "</pre>\n",
    "El ticket que generará la aplicación se almacenará en un diccionario. Cada entrada del diccionario contendrá los datos de un producto incluido en la compra, donde la clave será el nombre del producto (fruta). Ejemplo:\n",
    "<pre>\n",
    "    {\n",
    "    'naranja': {'peso': 1.5, 'precio': 2.55},\n",
    "    'pera': {'peso': 2.0, 'precio': 2.5}\n",
    "    }\n",
    "</pre>\n",
    "El programa pedirá al usuario iterativamente los productos que conformarán un ticket y sus datos (nombre_producto, peso), y se añadirá al ticket (calculado su precio en función del peso).\n",
    "\n",
    "Debe comprobarse que el producto seleccionado exista en la tabla de precios.\n",
    "\n",
    "Si el producto seleccionado fue ya añadido al ticket se indicará con un mensaje y no se modificará.\n",
    "\n",
    "Una vez se ha terminado de generar el ticket, se mostrará por pantalla. Ejemplo de ejecución:\n",
    "<pre>\n",
    "--- Precios\tpara\thoy ---\n",
    "pera\t\t1.25\n",
    "naranja\t\t1.70\n",
    "manzana\t\t1.55\n",
    "kiwi\t\t2.90\n",
    "mandarina\t\t1.19\n",
    "fresa\t\t3.75\n",
    "\n",
    "¿Producto?\n",
    "¿Peso? 1\t\n",
    "pera\t\n",
    "¿Más productos (si/no)? si\n",
    "¿Producto? naranja\n",
    "¿Peso? 3.5\n",
    "¿Más productos (si/no)? no\n",
    "\n",
    "\n",
    "--- Ticket ---\t\n",
    "pera\t1.00 kg\t1.25 euros\n",
    "naranja\t3.50 kg\t5.95 euros\n",
    "\n",
    "</pre>\n"
   ]
  },
  {
   "cell_type": "code",
   "execution_count": null,
   "metadata": {},
   "outputs": [
    {
     "name": "stdout",
     "output_type": "stream",
     "text": [
      "--- Precios para hoy ---\n",
      "pera\t1.25\n",
      "naranja\t1.70\n",
      "manzana\t1.55\n",
      "kiwi\t2.90\n",
      "mandarina\t1.19\n",
      "fresa\t3.75\n",
      "Producto pera añadido al ticket.\n",
      "Pera ya ha sido añadido al ticket.\n",
      "\n",
      "--- Ticket ---\n",
      "pera\t100.00 kg\t125.00 euros\n"
     ]
    }
   ],
   "source": [
    "precios_frutas = {\n",
    "    'pera': 1.25,\n",
    "    'naranja': 1.70,\n",
    "    'manzana': 1.55,\n",
    "    'kiwi': 2.90,\n",
    "    'mandarina': 1.19,\n",
    "    'fresa': 3.75\n",
    "}\n",
    "\n",
    "ticket = {}\n",
    "\n",
    "print(\"--- Precios para hoy ---\")\n",
    "for fruta, precio in precios_frutas.items():\n",
    "    print(f\"{fruta}\\t{precio:.2f}\")\n",
    "\n",
    "def agregar_producto():\n",
    "    while True:\n",
    "        producto = input(\"¿Producto? \").lower()\n",
    "        \n",
    "        if producto in precios_frutas:\n",
    "            if producto not in ticket:\n",
    "                peso = float(input(\"¿Peso? \"))\n",
    "                precio_producto = precios_frutas[producto] * peso\n",
    "                ticket[producto] = {'peso': peso, 'precio': precio_producto}\n",
    "                print(f\"Producto {producto} añadido al ticket.\")\n",
    "            else:\n",
    "                print(f\"{producto} ya ha sido añadido al ticket.\")\n",
    "        else:\n",
    "            print(f\"El producto {producto} no está en el listado de precios.\")\n",
    "\n",
    "        mas_productos = input(\"¿Más productos (si/no)? \").lower()\n",
    "        if mas_productos != 'si':\n",
    "            break\n",
    "\n",
    "def mostrar_ticket():\n",
    "    print(\"\\n--- Ticket ---\")\n",
    "    for producto, datos in ticket.items():\n",
    "        print(f\"{producto}\\t{datos['peso']:.2f} kg\\t{datos['precio']:.2f} euros\")\n",
    "\n",
    "agregar_producto()\n",
    "mostrar_ticket()\n",
    "\n",
    "\n"
   ]
  },
  {
   "cell_type": "markdown",
   "metadata": {
    "id": "kk6D97EInqEk"
   },
   "source": [
    "### 6. ¿Jugamos al póker?\n",
    "\n",
    "Reparte 5 cartas a cada jugador y analiza quien tiene la mano ganadora.\n",
    "\n",
    "**Escalera de color**: cinco cartas consecutivas del mismo palo.\n",
    "\n",
    "**Poker**: cuatro cartas iguales y una diferente (kicker).\n",
    "\n",
    "**Full house**: tres cartas del mismo valor y dos cartas de un valor distinto, pero coincidentes entre ellas.\n",
    "\n",
    "**Color**: cinco cartas del mismo palo.\n",
    "\n",
    "**Escalera**: cinco cartas consecutivas.\n",
    "\n",
    "**Trío**: tres cartas del mismo valor y dos de un valor diferente.\n",
    "\n",
    "**Doble pareja**: dos cartas del mismo valor, combinadas con otras dos cartas del mismo valor y una quinta diferente.\n",
    "\n",
    "**Pareja**: dos cartas del mismo valor y tres de valores diferentes.\n",
    "\n",
    "**Carta alta**: cualquier mano que no pertenece a ninguna de las categorías anteriores.\n"
   ]
  },
  {
   "cell_type": "code",
   "execution_count": 59,
   "metadata": {
    "colab": {
     "base_uri": "https://localhost:8080/"
    },
    "id": "OJbBKpWqnuxi",
    "outputId": "110ca3d8-de7d-43ff-a390-db2aebc5cbde"
   },
   "outputs": [
    {
     "name": "stdout",
     "output_type": "stream",
     "text": [
      "Alice tiene [('♢', '3'), ('♠', '2'), ('♡', 'J'), ('♢', 'A'), ('♡', '10')]\n",
      "Bob tiene [('♣', 'K'), ('♠', 'K'), ('♢', 'K'), ('♣', '3'), ('♣', 'J')]\n",
      "Carol tiene [('♡', 'Q'), ('♠', 'Q'), ('♣', '10'), ('♡', '9'), ('♡', '6')]\n",
      "David tiene [('♣', '4'), ('♢', '9'), ('♢', '10'), ('♡', '5'), ('♢', '4')]\n"
     ]
    }
   ],
   "source": [
    "import random;\n",
    "\n",
    "PALOS = '♠ ♡ ♢ ♣'.split(' ');\n",
    "RANGO = '2 3 4 5 6 7 8 9 10 J Q K A'.split(' ');\n",
    "JUGADORES = 'Alice Bob Carol David'.split(' ');\n",
    "\n",
    "mazo = [(p, r) for r in RANGO for p in PALOS];\n",
    "\n",
    "mano={};\n",
    "random.shuffle(mazo);\n",
    "for j in JUGADORES:\n",
    "    mano[j]=mazo[:5];\n",
    "    mazo=mazo[5:];\n",
    "    print(\"{} tiene {}\".format(j,mano[j]));\n",
    "\n",
    "# TODO ¿qué mano gana? para investigar...\n",
    "\n",
    "\n",
    "\n",
    "\n",
    "\n",
    "\n"
   ]
  },
  {
   "cell_type": "code",
   "execution_count": null,
   "metadata": {
    "id": "gnVfCTzPn134"
   },
   "outputs": [],
   "source": []
  }
 ],
 "metadata": {
  "colab": {
   "collapsed_sections": [],
   "provenance": []
  },
  "kernelspec": {
   "display_name": ".venv",
   "language": "python",
   "name": "python3"
  },
  "language_info": {
   "codemirror_mode": {
    "name": "ipython",
    "version": 3
   },
   "file_extension": ".py",
   "mimetype": "text/x-python",
   "name": "python",
   "nbconvert_exporter": "python",
   "pygments_lexer": "ipython3",
   "version": "3.13.0"
  }
 },
 "nbformat": 4,
 "nbformat_minor": 0
}
