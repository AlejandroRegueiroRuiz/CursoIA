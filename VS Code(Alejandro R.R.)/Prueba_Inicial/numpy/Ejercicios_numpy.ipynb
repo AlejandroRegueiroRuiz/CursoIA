{
 "cells": [
  {
   "cell_type": "markdown",
   "metadata": {},
   "source": [
    "## Ejercicios Numpy "
   ]
  },
  {
   "cell_type": "markdown",
   "metadata": {},
   "source": [
    "#### 1. Crea una matriz 4*4 rellena con el valor 0.5"
   ]
  },
  {
   "cell_type": "code",
   "execution_count": 1,
   "metadata": {},
   "outputs": [
    {
     "name": "stdout",
     "output_type": "stream",
     "text": [
      "[[0.5 0.5 0.5 0.5]\n",
      " [0.5 0.5 0.5 0.5]\n",
      " [0.5 0.5 0.5 0.5]\n",
      " [0.5 0.5 0.5 0.5]]\n",
      "[[0.5 0.5 0.5 0.5]\n",
      " [0.5 0.5 0.5 0.5]\n",
      " [0.5 0.5 0.5 0.5]\n",
      " [0.5 0.5 0.5 0.5]]\n"
     ]
    }
   ],
   "source": [
    "import numpy as np \n",
    "numero = 0.5 \n",
    "size = 4\n",
    "print(np.array([np.linspace(numero, numero, num=size)]*size))\n",
    "\n",
    "print(np.ones((4,4))*0.5)\n",
    "matrizEj1 = np.ones((4,4))*0.5"
   ]
  },
  {
   "cell_type": "markdown",
   "metadata": {},
   "source": [
    "#### 2. Crea una matriz 6*6 con unos en los bordes y 0 en el interior (utilizando slicing)"
   ]
  },
  {
   "cell_type": "code",
   "execution_count": 2,
   "metadata": {},
   "outputs": [
    {
     "name": "stdout",
     "output_type": "stream",
     "text": [
      "[[0. 0. 0. 0. 0. 0.]\n",
      " [0. 0. 0. 0. 0. 0.]\n",
      " [0. 0. 0. 0. 0. 0.]\n",
      " [0. 0. 0. 0. 0. 0.]\n",
      " [0. 0. 0. 0. 0. 0.]\n",
      " [0. 0. 0. 0. 0. 0.]]\n",
      "\n",
      "[[1. 1. 1. 1. 1. 1.]\n",
      " [1. 0. 0. 0. 0. 1.]\n",
      " [1. 0. 0. 0. 0. 1.]\n",
      " [1. 0. 0. 0. 0. 1.]\n",
      " [1. 0. 0. 0. 0. 1.]\n",
      " [1. 1. 1. 1. 1. 1.]]\n"
     ]
    }
   ],
   "source": [
    "num = 6\n",
    "\n",
    "matriz = np.ones((num,num))*0\n",
    "print(matriz)\n",
    "matriz[0:num, 0] = 1\n",
    "matriz[0, 0:num] = 1\n",
    "matriz[num-1, 0:num] = 1\n",
    "matriz[0:num, num-1] = 1\n",
    "print(\"\")\n",
    "print(matriz)"
   ]
  },
  {
   "cell_type": "markdown",
   "metadata": {},
   "source": [
    "#### 3. Crea una matriz de numpy 3*2 a partir de una lista de listas de números float"
   ]
  },
  {
   "cell_type": "code",
   "execution_count": 47,
   "metadata": {},
   "outputs": [
    {
     "name": "stdout",
     "output_type": "stream",
     "text": [
      "[[2.233232  4.323232 ]\n",
      " [5.323232  5.323242 ]\n",
      " [6.4434342 7.4343433]]\n",
      "3\n"
     ]
    }
   ],
   "source": [
    "lista = [[2.233232,4.32323232],[5.32323232,5.3232424],[6.4434343,7.43434343]]\n",
    "\n",
    "matriz2 = np.array(lista, dtype=np.float32)\n",
    "print(matriz2)\n",
    "print(len(matriz2))"
   ]
  },
  {
   "cell_type": "markdown",
   "metadata": {},
   "source": [
    "#### 4. Divide entre 4 los valores de la columna 1"
   ]
  },
  {
   "cell_type": "code",
   "execution_count": 56,
   "metadata": {},
   "outputs": [
    {
     "name": "stdout",
     "output_type": "stream",
     "text": [
      "[[0.558308  4.323232 ]\n",
      " [1.330808  5.323242 ]\n",
      " [1.6108586 7.4343433]]\n"
     ]
    }
   ],
   "source": [
    "matriz2[:, 0] = matriz2[:, 0] / 4\n",
    "print(matriz2)"
   ]
  },
  {
   "cell_type": "markdown",
   "metadata": {},
   "source": [
    "#### 5. Calcula la media de los elementos de las primeras dos primeras filas"
   ]
  },
  {
   "cell_type": "code",
   "execution_count": 59,
   "metadata": {},
   "outputs": [
    {
     "name": "stdout",
     "output_type": "stream",
     "text": [
      "Media: 2.8838977813720703\n"
     ]
    }
   ],
   "source": [
    "print(f\"Media: {matriz2[:2].mean()}\")"
   ]
  },
  {
   "cell_type": "markdown",
   "metadata": {},
   "source": [
    "#### 6. Crea una matriz aletoria de 4*4 con valores en [0, 1) \n",
    "\n",
    "El módulo <code>random</code> de numpy sirve para generar números aleatorios. En él tenemos varias funciones entre ellas <a href=\"https://numpy.org/doc/stable/reference/random/generated/numpy.random.rand.html\">rand</a>\n",
    "\n"
   ]
  },
  {
   "cell_type": "code",
   "execution_count": 60,
   "metadata": {},
   "outputs": [
    {
     "name": "stdout",
     "output_type": "stream",
     "text": [
      "[[0.97942235 0.65886994 0.46368199 0.99565715]\n",
      " [0.99578958 0.96383965 0.75516782 0.64339887]\n",
      " [0.35154572 0.03933426 0.12783771 0.89528632]\n",
      " [0.33422392 0.00351427 0.25342094 0.3137421 ]]\n"
     ]
    }
   ],
   "source": [
    "matrizAl = np.random.rand(4,4)\n",
    "print(matrizAl)"
   ]
  },
  {
   "cell_type": "markdown",
   "metadata": {},
   "source": [
    "#### 7.  Muestra la suma, media y desviación de los elementos de la matriz del ejercicio 6 "
   ]
  },
  {
   "cell_type": "code",
   "execution_count": 62,
   "metadata": {},
   "outputs": [
    {
     "name": "stdout",
     "output_type": "stream",
     "text": [
      "Suma: 8.774732576747954\n",
      "Media: 0.5484207860467472\n",
      "Desviación: 0.345\n"
     ]
    }
   ],
   "source": [
    "print(f\"Suma: {matrizAl.sum()}\")\n",
    "print(f\"Media: {matrizAl.mean()}\")\n",
    "print(f\"Desviación: {matrizAl.std():.3f}\")"
   ]
  },
  {
   "cell_type": "markdown",
   "metadata": {},
   "source": [
    "#### 8. Ordena por filas la matriz del ejercicio 6"
   ]
  },
  {
   "cell_type": "code",
   "execution_count": 63,
   "metadata": {},
   "outputs": [
    {
     "name": "stdout",
     "output_type": "stream",
     "text": [
      "[[0.46368199 0.65886994 0.97942235 0.99565715]\n",
      " [0.64339887 0.75516782 0.96383965 0.99578958]\n",
      " [0.03933426 0.12783771 0.35154572 0.89528632]\n",
      " [0.00351427 0.25342094 0.3137421  0.33422392]]\n"
     ]
    }
   ],
   "source": [
    "print(np.sort(matrizAl))"
   ]
  },
  {
   "cell_type": "markdown",
   "metadata": {},
   "source": [
    "#### 9. Multiplica las matrices del ejercio 1 y 6"
   ]
  },
  {
   "cell_type": "code",
   "execution_count": 65,
   "metadata": {},
   "outputs": [
    {
     "name": "stdout",
     "output_type": "stream",
     "text": [
      "[[0.48971117 0.32943497 0.23184099 0.49782858]\n",
      " [0.49789479 0.48191982 0.37758391 0.32169944]\n",
      " [0.17577286 0.01966713 0.06391886 0.44764316]\n",
      " [0.16711196 0.00175713 0.12671047 0.15687105]]\n"
     ]
    }
   ],
   "source": [
    "matrizExp = matrizEj1 * matrizAl\n",
    "print(matrizExp)"
   ]
  },
  {
   "cell_type": "markdown",
   "metadata": {},
   "source": [
    "#### 10. Prueba a concatenar las matrices de los ejercicios 1 y 6 en vertical y horizontal\n",
    "\n",
    "Echa un vistazo al apartado 2 del siguiente <a href=\"https://rmoralesdelgado.com/all/numpy-concatenate-r_-c_/\"> link </a> donde explica el uso de <a href=\"https://numpy.org/doc/stable/reference/generated/numpy.c_.html\">numpy.c_ </a> y <a href=\"https://numpy.org/doc/stable/reference/generated/numpy.r_.html\">numpy.r_</a>\n",
    "\n",
    "Fíjate también en <code>%%timeit</code> que se usa en Jupyter notebooks para medir el tiempo de ejecución de un bloque de código"
   ]
  },
  {
   "cell_type": "code",
   "execution_count": 68,
   "metadata": {},
   "outputs": [
    {
     "name": "stdout",
     "output_type": "stream",
     "text": [
      "[[0.5        0.5        0.5        0.5       ]\n",
      " [0.5        0.5        0.5        0.5       ]\n",
      " [0.5        0.5        0.5        0.5       ]\n",
      " [0.5        0.5        0.5        0.5       ]\n",
      " [0.97942235 0.65886994 0.46368199 0.99565715]\n",
      " [0.99578958 0.96383965 0.75516782 0.64339887]\n",
      " [0.35154572 0.03933426 0.12783771 0.89528632]\n",
      " [0.33422392 0.00351427 0.25342094 0.3137421 ]]\n",
      "[[0.5        0.5        0.5        0.5        0.97942235 0.65886994\n",
      "  0.46368199 0.99565715]\n",
      " [0.5        0.5        0.5        0.5        0.99578958 0.96383965\n",
      "  0.75516782 0.64339887]\n",
      " [0.5        0.5        0.5        0.5        0.35154572 0.03933426\n",
      "  0.12783771 0.89528632]\n",
      " [0.5        0.5        0.5        0.5        0.33422392 0.00351427\n",
      "  0.25342094 0.3137421 ]]\n"
     ]
    }
   ],
   "source": [
    "print(np.r_[matrizEj1, matrizAl])\n",
    "print(np.c_[matrizEj1, matrizAl])"
   ]
  }
 ],
 "metadata": {
  "kernelspec": {
   "display_name": "Python 3",
   "language": "python",
   "name": "python3"
  },
  "language_info": {
   "codemirror_mode": {
    "name": "ipython",
    "version": 3
   },
   "file_extension": ".py",
   "mimetype": "text/x-python",
   "name": "python",
   "nbconvert_exporter": "python",
   "pygments_lexer": "ipython3",
   "version": "3.13.0"
  }
 },
 "nbformat": 4,
 "nbformat_minor": 2
}
