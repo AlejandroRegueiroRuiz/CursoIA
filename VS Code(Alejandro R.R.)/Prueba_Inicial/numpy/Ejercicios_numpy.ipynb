{
 "cells": [
  {
   "cell_type": "markdown",
   "metadata": {},
   "source": [
    "## Ejercicios Numpy "
   ]
  },
  {
   "cell_type": "markdown",
   "metadata": {},
   "source": [
    "#### 1. Crea una matriz 4*4 rellena con el valor 0.5"
   ]
  },
  {
   "cell_type": "code",
   "execution_count": 83,
   "metadata": {},
   "outputs": [
    {
     "name": "stdout",
     "output_type": "stream",
     "text": [
      "[[0.5 0.5 0.5 0.5]\n",
      " [0.5 0.5 0.5 0.5]\n",
      " [0.5 0.5 0.5 0.5]\n",
      " [0.5 0.5 0.5 0.5]]\n",
      "[[0.5 0.5 0.5 0.5]\n",
      " [0.5 0.5 0.5 0.5]\n",
      " [0.5 0.5 0.5 0.5]\n",
      " [0.5 0.5 0.5 0.5]]\n"
     ]
    }
   ],
   "source": [
    "import numpy as np \n",
    "numero = 0.5 \n",
    "size = 4\n",
    "print(np.array([np.linspace(numero, numero, num=size)]*size))\n",
    "\n",
    "print(np.ones((4,4))*0.5)\n",
    "matrizEj1 = np.ones((4,4))*0.5"
   ]
  },
  {
   "cell_type": "markdown",
   "metadata": {},
   "source": [
    "#### 2. Crea una matriz 6*6 con unos en los bordes y 0 en el interior (utilizando slicing)"
   ]
  },
  {
   "cell_type": "code",
   "execution_count": 41,
   "metadata": {},
   "outputs": [
    {
     "name": "stdout",
     "output_type": "stream",
     "text": [
      "[[0. 0. 0. 0. 0. 0.]\n",
      " [0. 0. 0. 0. 0. 0.]\n",
      " [0. 0. 0. 0. 0. 0.]\n",
      " [0. 0. 0. 0. 0. 0.]\n",
      " [0. 0. 0. 0. 0. 0.]\n",
      " [0. 0. 0. 0. 0. 0.]]\n",
      "\n",
      "[[1. 1. 1. 1. 1. 1.]\n",
      " [1. 0. 0. 0. 0. 1.]\n",
      " [1. 0. 0. 0. 0. 1.]\n",
      " [1. 0. 0. 0. 0. 1.]\n",
      " [1. 0. 0. 0. 0. 1.]\n",
      " [1. 1. 1. 1. 1. 1.]]\n"
     ]
    }
   ],
   "source": [
    "num = 6\n",
    "\n",
    "matriz = np.ones((num,num))*0\n",
    "print(matriz)\n",
    "matriz[0:num, 0] = 1\n",
    "matriz[0, 0:num] = 1\n",
    "matriz[num-1, 0:num] = 1\n",
    "matriz[0:num, num-1] = 1\n",
    "print(\"\")\n",
    "print(matriz)"
   ]
  },
  {
   "cell_type": "markdown",
   "metadata": {},
   "source": [
    "#### 3. Crea una matriz de numpy 3*2 a partir de una lista de listas de números float"
   ]
  },
  {
   "cell_type": "code",
   "execution_count": 63,
   "metadata": {},
   "outputs": [
    {
     "name": "stdout",
     "output_type": "stream",
     "text": [
      "[[2.233232  4.323232 ]\n",
      " [5.323232  5.323242 ]\n",
      " [6.4434342 7.4343433]]\n",
      "3\n"
     ]
    }
   ],
   "source": [
    "lista = [[2.233232,4.32323232],[5.32323232,5.3232424],[6.4434343,7.43434343]]\n",
    "\n",
    "matriz2 = np.array(lista, dtype=np.float32)\n",
    "print(matriz2)\n",
    "print(len(matriz2))"
   ]
  },
  {
   "cell_type": "markdown",
   "metadata": {},
   "source": [
    "#### 4. Divide entre 4 los valores de la columna 1"
   ]
  },
  {
   "cell_type": "code",
   "execution_count": null,
   "metadata": {},
   "outputs": [
    {
     "name": "stdout",
     "output_type": "stream",
     "text": [
      "[[0.139577  0.270202 ]\n",
      " [5.323232  5.323242 ]\n",
      " [6.4434342 7.4343433]]\n",
      "[[5.323232  5.323242 ]\n",
      " [6.4434342 7.4343433]]\n"
     ]
    }
   ],
   "source": [
    "matriz2[0, 0:len(matriz2[0])] = matriz2[0, 0:len(matriz2[0])] / 4\n",
    "print(matriz2)"
   ]
  },
  {
   "cell_type": "markdown",
   "metadata": {},
   "source": [
    "#### 5. Calcula la media de los elementos de las primeras dos primeras filas"
   ]
  },
  {
   "cell_type": "code",
   "execution_count": null,
   "metadata": {},
   "outputs": [
    {
     "name": "stdout",
     "output_type": "stream",
     "text": [
      "Media: 6.131062984466553\n"
     ]
    }
   ],
   "source": [
    "print(f\"Media: {matriz2[1:].mean()}\")"
   ]
  },
  {
   "cell_type": "markdown",
   "metadata": {},
   "source": [
    "#### 6. Crea una matriz aletoria de 4*4 con valores en [0, 1) \n",
    "\n",
    "El módulo <code>random</code> de numpy sirve para generar números aleatorios. En él tenemos varias funciones entre ellas <a href=\"https://numpy.org/doc/stable/reference/random/generated/numpy.random.rand.html\">rand</a>\n",
    "\n"
   ]
  },
  {
   "cell_type": "code",
   "execution_count": 80,
   "metadata": {},
   "outputs": [
    {
     "name": "stdout",
     "output_type": "stream",
     "text": [
      "[[0.22280212 0.63438165 0.19392997 0.88948171]\n",
      " [0.88772159 0.86332884 0.54509434 0.8993722 ]\n",
      " [0.97820145 0.3943093  0.43000198 0.29719841]\n",
      " [0.94011001 0.72003306 0.75319116 0.10145373]]\n"
     ]
    }
   ],
   "source": [
    "matrizAl = np.random.rand(4,4)\n",
    "print(matrizAl)"
   ]
  },
  {
   "cell_type": "markdown",
   "metadata": {},
   "source": [
    "#### 7.  Muestra la suma, media y desviación de los elementos de la matriz del ejercicio 6 "
   ]
  },
  {
   "cell_type": "code",
   "execution_count": 81,
   "metadata": {},
   "outputs": [
    {
     "name": "stdout",
     "output_type": "stream",
     "text": [
      "Suma: 9.750611518098701\n",
      "Media: 0.6094132198811688\n",
      "Desviación: 0.290\n"
     ]
    }
   ],
   "source": [
    "print(f\"Suma: {matrizAl.sum()}\")\n",
    "print(f\"Media: {matrizAl.mean()}\")\n",
    "print(f\"Desviación: {matrizAl.std():.3f}\")"
   ]
  },
  {
   "cell_type": "markdown",
   "metadata": {},
   "source": [
    "#### 8. Ordena por filas la matriz del ejercicio 6"
   ]
  },
  {
   "cell_type": "code",
   "execution_count": 82,
   "metadata": {},
   "outputs": [
    {
     "name": "stdout",
     "output_type": "stream",
     "text": [
      "[[0.19392997 0.22280212 0.63438165 0.88948171]\n",
      " [0.54509434 0.86332884 0.88772159 0.8993722 ]\n",
      " [0.29719841 0.3943093  0.43000198 0.97820145]\n",
      " [0.10145373 0.72003306 0.75319116 0.94011001]]\n"
     ]
    }
   ],
   "source": [
    "print(np.sort(matrizAl))"
   ]
  },
  {
   "cell_type": "markdown",
   "metadata": {},
   "source": [
    "#### 9. Multiplica las matrices del ejercio 1 y 6"
   ]
  },
  {
   "cell_type": "code",
   "execution_count": 84,
   "metadata": {},
   "outputs": [
    {
     "name": "stdout",
     "output_type": "stream",
     "text": [
      "[[0.11140106 0.31719083 0.09696499 0.44474086]\n",
      " [0.44386079 0.43166442 0.27254717 0.4496861 ]\n",
      " [0.48910072 0.19715465 0.21500099 0.14859921]\n",
      " [0.47005501 0.36001653 0.37659558 0.05072686]]\n"
     ]
    }
   ],
   "source": [
    "matrizExp = matrizEj1 * matrizAl\n",
    "print(matrizExp)"
   ]
  },
  {
   "cell_type": "markdown",
   "metadata": {},
   "source": [
    "#### 10. Prueba a concatenar las matrices de los ejercicios 1 y 6 en vertical y horizontal\n",
    "\n",
    "Echa un vistazo al apartado 2 del siguiente <a href=\"https://rmoralesdelgado.com/all/numpy-concatenate-r_-c_/\"> link </a> donde explica el uso de <a href=\"https://numpy.org/doc/stable/reference/generated/numpy.c_.html\">numpy.c_ </a> y <a href=\"https://numpy.org/doc/stable/reference/generated/numpy.r_.html\">numpy.r_</a>\n",
    "\n",
    "Fíjate también en <code>%%timeit</code> que se usa en Jupyter notebooks para medir el tiempo de ejecución de un bloque de código"
   ]
  },
  {
   "cell_type": "code",
   "execution_count": 86,
   "metadata": {},
   "outputs": [
    {
     "name": "stdout",
     "output_type": "stream",
     "text": [
      "[[0.5        0.5        0.5        0.5       ]\n",
      " [0.5        0.5        0.5        0.5       ]\n",
      " [0.5        0.5        0.5        0.5       ]\n",
      " [0.5        0.5        0.5        0.5       ]\n",
      " [0.22280212 0.63438165 0.19392997 0.88948171]\n",
      " [0.88772159 0.86332884 0.54509434 0.8993722 ]\n",
      " [0.97820145 0.3943093  0.43000198 0.29719841]\n",
      " [0.94011001 0.72003306 0.75319116 0.10145373]]\n",
      "[[0.5        0.5        0.5        0.5        0.22280212 0.63438165\n",
      "  0.19392997 0.88948171]\n",
      " [0.5        0.5        0.5        0.5        0.88772159 0.86332884\n",
      "  0.54509434 0.8993722 ]\n",
      " [0.5        0.5        0.5        0.5        0.97820145 0.3943093\n",
      "  0.43000198 0.29719841]\n",
      " [0.5        0.5        0.5        0.5        0.94011001 0.72003306\n",
      "  0.75319116 0.10145373]]\n"
     ]
    }
   ],
   "source": [
    "print(np.r_[matrizEj1, matrizAl])\n",
    "print(np.c_[matrizEj1, matrizAl])"
   ]
  }
 ],
 "metadata": {
  "kernelspec": {
   "display_name": ".venv",
   "language": "python",
   "name": "python3"
  },
  "language_info": {
   "codemirror_mode": {
    "name": "ipython",
    "version": 3
   },
   "file_extension": ".py",
   "mimetype": "text/x-python",
   "name": "python",
   "nbconvert_exporter": "python",
   "pygments_lexer": "ipython3",
   "version": "3.13.0"
  }
 },
 "nbformat": 4,
 "nbformat_minor": 2
}
