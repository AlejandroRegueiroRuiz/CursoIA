{
 "cells": [
  {
   "cell_type": "code",
   "execution_count": 61,
   "metadata": {},
   "outputs": [],
   "source": [
    "import pandas as pd\n",
    "import numpy as np\n",
    "\n",
    "from sklearn.model_selection import train_test_split\n",
    "from sklearn.svm import LinearSVR\n",
    "\n",
    "from sklearn.metrics import mean_squared_error, mean_absolute_error, r2_score"
   ]
  },
  {
   "cell_type": "code",
   "execution_count": 62,
   "metadata": {},
   "outputs": [],
   "source": [
    "crop_df = pd.read_csv('./csv/crop_yield2.csv')"
   ]
  },
  {
   "cell_type": "code",
   "execution_count": 63,
   "metadata": {},
   "outputs": [
    {
     "data": {
      "text/html": [
       "<div>\n",
       "<style scoped>\n",
       "    .dataframe tbody tr th:only-of-type {\n",
       "        vertical-align: middle;\n",
       "    }\n",
       "\n",
       "    .dataframe tbody tr th {\n",
       "        vertical-align: top;\n",
       "    }\n",
       "\n",
       "    .dataframe thead th {\n",
       "        text-align: right;\n",
       "    }\n",
       "</style>\n",
       "<table border=\"1\" class=\"dataframe\">\n",
       "  <thead>\n",
       "    <tr style=\"text-align: right;\">\n",
       "      <th></th>\n",
       "      <th>Region</th>\n",
       "      <th>Soil_Type</th>\n",
       "      <th>Crop</th>\n",
       "      <th>Rainfall_mm</th>\n",
       "      <th>Temperature_Celsius</th>\n",
       "      <th>Fertilizer_Used</th>\n",
       "      <th>Irrigation_Used</th>\n",
       "      <th>Weather_Condition</th>\n",
       "      <th>Days_to_Harvest</th>\n",
       "      <th>Yield_tons_per_hectare</th>\n",
       "    </tr>\n",
       "  </thead>\n",
       "  <tbody>\n",
       "    <tr>\n",
       "      <th>0</th>\n",
       "      <td>West</td>\n",
       "      <td>Sandy</td>\n",
       "      <td>Cotton</td>\n",
       "      <td>897.077239</td>\n",
       "      <td>27.676966</td>\n",
       "      <td>False</td>\n",
       "      <td>True</td>\n",
       "      <td>Cloudy</td>\n",
       "      <td>122</td>\n",
       "      <td>6.555816</td>\n",
       "    </tr>\n",
       "    <tr>\n",
       "      <th>1</th>\n",
       "      <td>South</td>\n",
       "      <td>Clay</td>\n",
       "      <td>Rice</td>\n",
       "      <td>992.673282</td>\n",
       "      <td>18.026142</td>\n",
       "      <td>True</td>\n",
       "      <td>True</td>\n",
       "      <td>Rainy</td>\n",
       "      <td>140</td>\n",
       "      <td>8.527341</td>\n",
       "    </tr>\n",
       "    <tr>\n",
       "      <th>2</th>\n",
       "      <td>North</td>\n",
       "      <td>Loam</td>\n",
       "      <td>Barley</td>\n",
       "      <td>147.998025</td>\n",
       "      <td>29.794042</td>\n",
       "      <td>False</td>\n",
       "      <td>False</td>\n",
       "      <td>Sunny</td>\n",
       "      <td>106</td>\n",
       "      <td>1.127443</td>\n",
       "    </tr>\n",
       "    <tr>\n",
       "      <th>3</th>\n",
       "      <td>North</td>\n",
       "      <td>Sandy</td>\n",
       "      <td>Soybean</td>\n",
       "      <td>986.866331</td>\n",
       "      <td>16.644190</td>\n",
       "      <td>False</td>\n",
       "      <td>True</td>\n",
       "      <td>Rainy</td>\n",
       "      <td>146</td>\n",
       "      <td>6.517573</td>\n",
       "    </tr>\n",
       "    <tr>\n",
       "      <th>4</th>\n",
       "      <td>South</td>\n",
       "      <td>Silt</td>\n",
       "      <td>Wheat</td>\n",
       "      <td>730.379174</td>\n",
       "      <td>31.620687</td>\n",
       "      <td>True</td>\n",
       "      <td>True</td>\n",
       "      <td>Cloudy</td>\n",
       "      <td>110</td>\n",
       "      <td>7.248251</td>\n",
       "    </tr>\n",
       "  </tbody>\n",
       "</table>\n",
       "</div>"
      ],
      "text/plain": [
       "  Region Soil_Type     Crop  Rainfall_mm  Temperature_Celsius  \\\n",
       "0   West     Sandy   Cotton   897.077239            27.676966   \n",
       "1  South      Clay     Rice   992.673282            18.026142   \n",
       "2  North      Loam   Barley   147.998025            29.794042   \n",
       "3  North     Sandy  Soybean   986.866331            16.644190   \n",
       "4  South      Silt    Wheat   730.379174            31.620687   \n",
       "\n",
       "   Fertilizer_Used  Irrigation_Used Weather_Condition  Days_to_Harvest  \\\n",
       "0            False             True            Cloudy              122   \n",
       "1             True             True             Rainy              140   \n",
       "2            False            False             Sunny              106   \n",
       "3            False             True             Rainy              146   \n",
       "4             True             True            Cloudy              110   \n",
       "\n",
       "   Yield_tons_per_hectare  \n",
       "0                6.555816  \n",
       "1                8.527341  \n",
       "2                1.127443  \n",
       "3                6.517573  \n",
       "4                7.248251  "
      ]
     },
     "execution_count": 63,
     "metadata": {},
     "output_type": "execute_result"
    }
   ],
   "source": [
    "crop_df.head()"
   ]
  },
  {
   "cell_type": "code",
   "execution_count": 64,
   "metadata": {},
   "outputs": [
    {
     "name": "stdout",
     "output_type": "stream",
     "text": [
      "<class 'pandas.core.frame.DataFrame'>\n",
      "RangeIndex: 3563 entries, 0 to 3562\n",
      "Data columns (total 10 columns):\n",
      " #   Column                  Non-Null Count  Dtype  \n",
      "---  ------                  --------------  -----  \n",
      " 0   Region                  3563 non-null   object \n",
      " 1   Soil_Type               3563 non-null   object \n",
      " 2   Crop                    3563 non-null   object \n",
      " 3   Rainfall_mm             3563 non-null   float64\n",
      " 4   Temperature_Celsius     3563 non-null   float64\n",
      " 5   Fertilizer_Used         3563 non-null   bool   \n",
      " 6   Irrigation_Used         3563 non-null   bool   \n",
      " 7   Weather_Condition       3563 non-null   object \n",
      " 8   Days_to_Harvest         3563 non-null   int64  \n",
      " 9   Yield_tons_per_hectare  3563 non-null   float64\n",
      "dtypes: bool(2), float64(3), int64(1), object(4)\n",
      "memory usage: 229.8+ KB\n"
     ]
    }
   ],
   "source": [
    "crop_df.info()"
   ]
  },
  {
   "cell_type": "code",
   "execution_count": 65,
   "metadata": {},
   "outputs": [],
   "source": [
    "from sklearn.preprocessing import OneHotEncoder\n",
    "from sklearn.compose import ColumnTransformer\n",
    "from sklearn.pipeline import Pipeline\n",
    "\n",
    "X = crop_df.drop('Yield_tons_per_hectare', axis=1)\n",
    "y = crop_df['Yield_tons_per_hectare'] \n",
    "\n",
    "# Dividimos los datos en entrenamiento y prueba antes de preprocesarlos\n",
    "X_train, X_test, y_train, y_test = train_test_split(X, y, test_size=0.2, random_state=42)\n",
    "\n",
    "# Identificamos las columnas categóricas\n",
    "categorical_columns = ['Region', 'Soil_Type', 'Crop', 'Weather_Condition']\n",
    "\n",
    "# Creamos el preprocesador que convierte las columnas categóricas usando OneHotEncoder\n",
    "preprocessor = ColumnTransformer(\n",
    "    transformers=[\n",
    "        ('cat', OneHotEncoder(handle_unknown='ignore'), categorical_columns)\n",
    "        #handle_unknown='ignore' interesante si trabajas con datos en vivo y en los que pueden aparecer categorías inesperadas\n",
    "    ],\n",
    "    remainder='passthrough',  # Las demás columnas (numéricas) se dejan como están\n",
    "    force_int_remainder_cols=False  # las columnas que no se transforman siguen con su tipo de dato original\n",
    ")\n"
   ]
  },
  {
   "cell_type": "code",
   "execution_count": 66,
   "metadata": {},
   "outputs": [
    {
     "name": "stdout",
     "output_type": "stream",
     "text": [
      "Mean Squared Error: 0.245245499581833\n",
      "Mean Absolute Error: 0.39677930053382926\n",
      "R2 Score: 0.9088057614668873\n"
     ]
    }
   ],
   "source": [
    "# Definir el pipeline para preprocesar los datos y definir el modelo\n",
    "squared = Pipeline(steps=[\n",
    "    ('preprocessor', preprocessor),\n",
    "    ('svm', LinearSVR(loss='squared_epsilon_insensitive', C=1.0, max_iter=1000))\n",
    "])\n",
    "\n",
    "# Entrenar el pipeline con los datos de entrenamiento\n",
    "squared.fit(X_train, y_train)\n",
    "\n",
    "# Hacemos predicciones\n",
    "y_pred = squared.predict(X_test)\n",
    "\n",
    "# Evaluamos la precisión usando métricas de regresión\n",
    "mse = mean_squared_error(y_test, y_pred)\n",
    "mae = mean_absolute_error(y_test, y_pred)\n",
    "r2 = r2_score(y_test, y_pred)\n",
    "\n",
    "print(\"Mean Squared Error:\", mse)\n",
    "print(\"Mean Absolute Error:\", mae)\n",
    "print(\"R2 Score:\", r2)"
   ]
  },
  {
   "cell_type": "code",
   "execution_count": null,
   "metadata": {},
   "outputs": [
    {
     "name": "stdout",
     "output_type": "stream",
     "text": [
      "Linear Regression Model\n",
      "Mean Squared Error: 0.2454774305714271\n",
      "Mean Absolute Error: 0.39501386757189016\n",
      "R2 Score: 0.9087195182125796\n"
     ]
    }
   ],
   "source": [
    "from sklearn.linear_model import LinearRegression\n",
    "\n",
    "# Definir el pipeline para preprocesar los datos y definir el modelo de regresión lineal\n",
    "linear_pipeline = Pipeline(steps=[\n",
    "    ('preprocessor', preprocessor),\n",
    "    ('regressor', LinearRegression())\n",
    "])\n",
    "\n",
    "# Entrenar el pipeline con los datos de entrenamiento\n",
    "linear_pipeline.fit(X_train, y_train)\n",
    "\n",
    "# Hacemos predicciones\n",
    "y_pred_linear = linear_pipeline.predict(X_test)\n",
    "\n",
    "# Evaluamos la precisión usando métricas de regresión\n",
    "mse_linear = mean_squared_error(y_test, y_pred_linear)\n",
    "mae_linear = mean_absolute_error(y_test, y_pred_linear)\n",
    "r2_linear = r2_score(y_test, y_pred_linear)\n",
    "\n",
    "print(\"Mean Squared Error:\", mse_linear)\n",
    "print(\"Mean Absolute Error:\", mae_linear)\n",
    "print(\"R2 Score:\", r2_linear)"
   ]
  },
  {
   "cell_type": "code",
   "execution_count": 68,
   "metadata": {},
   "outputs": [
    {
     "name": "stdout",
     "output_type": "stream",
     "text": [
      "Mean Squared Error: 0.2792742158742787\n",
      "Mean Absolute Error: 0.42372861191412103\n",
      "R2 Score: 0.896152225007135\n"
     ]
    }
   ],
   "source": [
    "from sklearn.ensemble import RandomForestRegressor\n",
    "\n",
    "# Definir el pipeline para preprocesar los datos y definir el modelo RandomForest\n",
    "random_forest_pipeline = Pipeline(steps=[\n",
    "    ('preprocessor', preprocessor),\n",
    "    ('regressor', RandomForestRegressor(n_estimators=100, random_state=42))\n",
    "])\n",
    "\n",
    "# Entrenar el pipeline con los datos de entrenamiento\n",
    "random_forest_pipeline.fit(X_train, y_train)\n",
    "\n",
    "# Hacemos predicciones\n",
    "y_pred_rf = random_forest_pipeline.predict(X_test)\n",
    "\n",
    "# Evaluamos la precisión usando métricas de regresión\n",
    "mse_rf = mean_squared_error(y_test, y_pred_rf)\n",
    "mae_rf = mean_absolute_error(y_test, y_pred_rf)\n",
    "r2_rf = r2_score(y_test, y_pred_rf)\n",
    "\n",
    "print(\"Mean Squared Error:\", mse_rf)\n",
    "print(\"Mean Absolute Error:\", mae_rf)\n",
    "print(\"R2 Score:\", r2_rf)"
   ]
  },
  {
   "cell_type": "code",
   "execution_count": 69,
   "metadata": {},
   "outputs": [
    {
     "name": "stdout",
     "output_type": "stream",
     "text": [
      "Mean Squared Error (Voting): 0.24755571668463927\n",
      "Mean Absolute Error (Voting): 0.39730813267326504\n",
      "R2 Score (Voting): 0.9079467100677961\n"
     ]
    }
   ],
   "source": [
    "from sklearn.ensemble import VotingRegressor\n",
    "\n",
    "# Definir los modelos base\n",
    "estimators = [\n",
    "    ('linear', linear_pipeline),\n",
    "    ('svm', squared),\n",
    "    ('rf', random_forest_pipeline)\n",
    "]\n",
    "\n",
    "# Crear el Voting Regressor\n",
    "voting_regressor = VotingRegressor(estimators=estimators)\n",
    "\n",
    "# Entrenar el Voting Regressor con los datos de entrenamiento\n",
    "voting_regressor.fit(X_train, y_train)\n",
    "\n",
    "# Hacer predicciones\n",
    "y_pred_voting = voting_regressor.predict(X_test)\n",
    "\n",
    "# Evaluar la precisión usando métricas de regresión\n",
    "mse_voting = mean_squared_error(y_test, y_pred_voting)\n",
    "mae_voting = mean_absolute_error(y_test, y_pred_voting)\n",
    "r2_voting = r2_score(y_test, y_pred_voting)\n",
    "\n",
    "print(\"Mean Squared Error (Voting):\", mse_voting)\n",
    "print(\"Mean Absolute Error (Voting):\", mae_voting)\n",
    "print(\"R2 Score (Voting):\", r2_voting)"
   ]
  }
 ],
 "metadata": {
  "kernelspec": {
   "display_name": "MachineLearning",
   "language": "python",
   "name": "python3"
  },
  "language_info": {
   "codemirror_mode": {
    "name": "ipython",
    "version": 3
   },
   "file_extension": ".py",
   "mimetype": "text/x-python",
   "name": "python",
   "nbconvert_exporter": "python",
   "pygments_lexer": "ipython3",
   "version": "3.13.2"
  }
 },
 "nbformat": 4,
 "nbformat_minor": 2
}
