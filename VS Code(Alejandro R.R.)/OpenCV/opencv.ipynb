{
 "cells": [
  {
   "cell_type": "code",
   "execution_count": 28,
   "metadata": {},
   "outputs": [],
   "source": [
    "import numpy as np\n",
    "import cv2"
   ]
  },
  {
   "cell_type": "code",
   "execution_count": 29,
   "metadata": {},
   "outputs": [],
   "source": [
    "# Cargamos la imagen\n",
    "original = cv2.imread(\"./famosos/Will Smith/100_89cbf87f.jpg\")\n",
    "monedasImg = cv2.imread(\"./Imagenes/monedas.jpg\")"
   ]
  },
  {
   "cell_type": "code",
   "execution_count": 30,
   "metadata": {},
   "outputs": [
    {
     "name": "stdout",
     "output_type": "stream",
     "text": [
      "He encontrado 16 objetos\n"
     ]
    }
   ],
   "source": [
    "# Verificar si la imagen se ha cargado correctamente\n",
    "if monedasImg is None:\n",
    "\tprint(\"Error: No se pudo cargar la imagen.\")\n",
    "else:\n",
    "\t# Convertimos a escala de grises\n",
    "\tgris = cv2.cvtColor(monedasImg, cv2.COLOR_BGR2GRAY)\n",
    "\n",
    "\t# Aplicar suavizado Gaussiano\n",
    "\tgauss = cv2.GaussianBlur(gris, (5,5), 0)\n",
    "\n",
    "\t# Detectamos los bordes con Canny\n",
    "\tcanny = cv2.Canny(gauss, 110, 200)\n",
    "\n",
    "\tcv2.imshow(\"canny\", canny)\n",
    "\n",
    "\t# Buscamos los contornos\n",
    "\t(contornos,_) = cv2.findContours(canny.copy(), cv2.RETR_EXTERNAL, cv2.CHAIN_APPROX_SIMPLE)\n",
    "\n",
    "\t# Mostramos el número de monedas por consola\n",
    "\tprint(\"He encontrado {} objetos\".format(len(contornos)))\n",
    "\n",
    "\tcv2.drawContours(monedasImg,contornos,-1,(0,0,255), 2)\n",
    "\tcv2.imshow(\"contornos\", monedasImg)\n",
    "\n",
    "\tcv2.waitKey(0)\n",
    "\tcv2.destroyAllWindows()"
   ]
  },
  {
   "cell_type": "code",
   "execution_count": 31,
   "metadata": {},
   "outputs": [
    {
     "name": "stdout",
     "output_type": "stream",
     "text": [
      "He encontrado 6 monedas\n"
     ]
    }
   ],
   "source": [
    "# Filtrar contornos que no sean circulares y que no tengan el tamaño adecuado\n",
    "monedas = []\n",
    "for contorno in contornos:\n",
    "    perimetro = cv2.arcLength(contorno, True)\n",
    "    aprox = cv2.approxPolyDP(contorno, 0.02 * perimetro, True)\n",
    "    area = cv2.contourArea(contorno)\n",
    "    \n",
    "    # Considerar solo los contornos con más de 5 vértices y un área mínima\n",
    "    if len(aprox) > 5 and area > 1000:\n",
    "        monedas.append(contorno)\n",
    "\n",
    "# Dibujar solo las monedas detectadas\n",
    "cv2.drawContours(monedasImg, monedas, -1, (0, 255, 0), 2)\n",
    "cv2.imshow(\"monedas\", monedasImg)\n",
    "\n",
    "# Mostrar el número de monedas detectadas\n",
    "print(\"He encontrado {} monedas\".format(len(monedas)))\n",
    "\n",
    "cv2.waitKey(0)\n",
    "cv2.destroyAllWindows()\n"
   ]
  },
  {
   "cell_type": "markdown",
   "metadata": {},
   "source": [
    "# Haar Cascade"
   ]
  },
  {
   "cell_type": "code",
   "execution_count": 32,
   "metadata": {},
   "outputs": [
    {
     "name": "stdout",
     "output_type": "stream",
     "text": [
      "He encontrado 1 rostros\n"
     ]
    }
   ],
   "source": [
    "# Cargar el clasificador pre-entrenado de Haar Cascade para la detección de rostros\n",
    "face_cascade = cv2.CascadeClassifier(cv2.data.haarcascades + 'haarcascade_frontalface_default.xml')\n",
    "\n",
    "# Convertir la imagen a escala de grises (si no está ya en escala de grises)\n",
    "gray = cv2.cvtColor(original, cv2.COLOR_BGR2GRAY)\n",
    "\n",
    "# Detectar rostros en la imagen\n",
    "faces = face_cascade.detectMultiScale(gray, scaleFactor=1.1, minNeighbors=5, minSize=(30, 30))\n",
    "\n",
    "# Dibujar rectángulos alrededor de los rostros detectados\n",
    "for (x, y, w, h) in faces:\n",
    "    cv2.rectangle(original, (x, y), (x+w, y+h), (255, 0, 0), 2)\n",
    "\n",
    "# Mostrar la imagen con los rostros detectados\n",
    "cv2.imshow(\"Rostros detectados\", original)\n",
    "\n",
    "# Mostrar el número de rostros detectados\n",
    "print(\"He encontrado {} rostros\".format(len(faces)))\n",
    "\n",
    "cv2.waitKey(0)\n",
    "cv2.destroyAllWindows()"
   ]
  }
 ],
 "metadata": {
  "kernelspec": {
   "display_name": "MachineLearning",
   "language": "python",
   "name": "python3"
  },
  "language_info": {
   "codemirror_mode": {
    "name": "ipython",
    "version": 3
   },
   "file_extension": ".py",
   "mimetype": "text/x-python",
   "name": "python",
   "nbconvert_exporter": "python",
   "pygments_lexer": "ipython3",
   "version": "3.13.2"
  }
 },
 "nbformat": 4,
 "nbformat_minor": 2
}
