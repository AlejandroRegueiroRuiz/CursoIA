{
 "cells": [
  {
   "cell_type": "markdown",
   "metadata": {},
   "source": [
    "# sklearn.compose\n",
    "\n",
    "En Scikit-Learn, el **módulo sklearn.compose** proporciona herramientas que facilitan la construcción de flujos de trabajo más complejos al combinar diferentes transformaciones en un solo objeto. Es útil cuando necesitas aplicar múltiples transformaciones a diferentes columnas de un conjunto de datos o cuando deseas aplicar una secuencia de transformaciones de manera flexible y estructurada.\n",
    "Incluye dos clases principales:\n",
    "- ColumnTransformer\n",
    "- TransformedTargetRegressor (menos utilizada)"
   ]
  },
  {
   "cell_type": "markdown",
   "metadata": {},
   "source": [
    "## ColumnTransformer\n",
    "\n",
    "La clase **ColumnTransformer** permite aplicar transformaciones diferentes a distintas columnas de un conjunto de datos. Es útil cuando en los datos aparecen diferentes tipos de variables (por ejemplo, numéricas y categóricas) y necesitas aplicar distintas transformaciones a cada tipo de columna. \n",
    "\n",
    "•\tEl *ColumnTransformer* toma una lista de transformaciones y aplica una transformación específica a las columnas que le indiques.\n",
    "\n",
    "•\tSe pueden aplicar diferentes preprocesamientos (normalización, codificación de variables categóricas, ...) a diferentes subconjuntos de las columnas de un DataFrame."
   ]
  },
  {
   "cell_type": "markdown",
   "metadata": {},
   "source": [
    "Supongamos que tienes un conjunto de datos con columnas numéricas y categóricas, y deseas aplicar diferentes transformaciones a cada tipo de columna"
   ]
  },
  {
   "cell_type": "code",
   "execution_count": 2,
   "metadata": {},
   "outputs": [
    {
     "name": "stdout",
     "output_type": "stream",
     "text": [
      "   edad genero  ingresos\n",
      "0  25.0      M   50000.0\n",
      "1  30.0      F   60000.0\n",
      "2   NaN      M   70000.0\n",
      "3  35.0      F   80000.0\n",
      "4  40.0      M       NaN\n",
      "[[-1.5 -1.5  0.   1. ]\n",
      " [-0.5 -0.5  1.   0. ]\n",
      " [ 0.   0.5  0.   1. ]\n",
      " [ 0.5  1.5  1.   0. ]\n",
      " [ 1.5  0.   0.   1. ]]\n",
      "   edad  ingresos  genero_F  genero_M\n",
      "0  -1.5      -1.5       0.0       1.0\n",
      "1  -0.5      -0.5       1.0       0.0\n",
      "2   0.0       0.5       0.0       1.0\n",
      "3   0.5       1.5       1.0       0.0\n",
      "4   1.5       0.0       0.0       1.0\n"
     ]
    }
   ],
   "source": [
    "import pandas as pd\n",
    "import numpy as np\n",
    "from sklearn.compose import ColumnTransformer\n",
    "from sklearn.preprocessing import StandardScaler, OneHotEncoder\n",
    "from sklearn.pipeline import Pipeline\n",
    "from sklearn.impute import SimpleImputer\n",
    "\n",
    "\n",
    "df = pd.DataFrame({\n",
    "    'edad': [25, 30, np.nan, 35, 40],\n",
    "    'genero': ['M', 'F', 'M', 'F', 'M'],\n",
    "    'ingresos': [50000, 60000, 70000, 80000, np.nan]\n",
    "})\n",
    "\n",
    "preprocessor = ColumnTransformer(\n",
    "    transformers=[                  #formato: ('nombre',transformador,columnas)\n",
    "        ('num', Pipeline(steps=[\n",
    "            ('imputer', SimpleImputer(strategy='mean')),\n",
    "            ('scaler', StandardScaler())\n",
    "        ]), ['edad', 'ingresos']),\n",
    "        \n",
    "        ('cat', OneHotEncoder(), ['genero'])\n",
    "    ]\n",
    ")\n",
    "\n",
    "print(df)\n",
    "\n",
    "df_transformed = preprocessor.fit_transform(df)\n",
    "\n",
    "print(df_transformed)\n",
    "\n",
    "num_cols = ['edad', 'ingresos']\n",
    "\n",
    "# Nombres de las columnas categóricas después del OneHotEncoder\n",
    "cat_cols = preprocessor.transformers_[1][1].get_feature_names_out(['genero'])\n",
    "\n",
    "# Combinar los nombres de las columnas\n",
    "columns = np.concatenate([num_cols, cat_cols])\n",
    "\n",
    "\n",
    "df_transformed_final = pd.DataFrame(df_transformed, columns=columns)\n",
    "\n",
    "\n",
    "print(df_transformed_final)\n"
   ]
  },
  {
   "cell_type": "markdown",
   "metadata": {},
   "source": [
    "Se aplica un SimpleImputer (para reemplazar valores faltantes) y normalización (con StandardScaler) a las columnas numéricas ('edad' y 'ingresos').\n",
    "\n",
    "Se aplica codificación one-hot (OneHotEncoder) a la columna categórica ('genero').\n",
    "\n",
    "- Pipeline:\n",
    "\n",
    "Dentro del ColumnTransformer, se usa un Pipeline para encadenar múltiples pasos (primero imputación y luego normalización para las columnas numéricas).\n",
    "\n",
    "Utilizamos fit_transform() porque el preprocesador primero tiene que aprender (fit) la información de las columnas del Dataframe, en este caso la media, la desviación para la normalización y aprender los valores de la columna categórica(genero) y después aplica (transform) esas transformaciones que acaba de aprender a los datos, es decir, pondrá los valores nulos con el valor de la media y luego las normaliza con la desviación estándar que aprendió. En la columna categórica convertirá las categorías a valores binarios. \n",
    "\n",
    "Por cierto, *'num'* y *'cat'* son solo etiquetas que pueden tener cualquier valor siempre que sea un string, no influyen en el código, solo se utilizan para hacer más claro para qué son las transformaciones\n",
    "\n",
    "En cuanto a: *preprocessor.transformers_[1][1].get_feature_names_out(['genero'])* . Cuando defines un ColumnTransformer tiene el formato *('nombre',transformador,columnas)* con lo que ya que estoy accediendo a cat será el indíce [1] y el segundo [1] se refiere al transformador dentro de esa tupla que es el OneHotEncoder, así que al acceder a él puedo llamar a sus métodos, en este caso, get_feature_names_out que me devuelve los nombres de las nuevas características generadas"
   ]
  }
 ],
 "metadata": {
  "kernelspec": {
   "display_name": ".venv",
   "language": "python",
   "name": "python3"
  },
  "language_info": {
   "codemirror_mode": {
    "name": "ipython",
    "version": 3
   },
   "file_extension": ".py",
   "mimetype": "text/x-python",
   "name": "python",
   "nbconvert_exporter": "python",
   "pygments_lexer": "ipython3",
   "version": "3.13.0"
  }
 },
 "nbformat": 4,
 "nbformat_minor": 2
}
