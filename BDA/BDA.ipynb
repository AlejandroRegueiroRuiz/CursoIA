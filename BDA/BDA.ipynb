{
 "cells": [
  {
   "cell_type": "markdown",
   "metadata": {},
   "source": [
    "Que es MQTT?\n",
    "\n",
    "    MQTT es un protocolo de mensajería estándar diseñado para el Internet de las Cosas (IoT). Está creado para ser un transporte de mensajería de publicación/suscripción muy ligero, lo que lo hace ideal para conectar dispositivos remotos con una librería de código pequeña y un ancho de banda de red mínimo.\n",
    "\n",
    "Que es RAFT-Bookeeper\n",
    "\n",
    "    Raft es un protocolo de consenso utilizado en sistemas de red para coordinar la escritura de mensajes en un log replicado."
   ]
  }
 ],
 "metadata": {
  "language_info": {
   "name": "python"
  }
 },
 "nbformat": 4,
 "nbformat_minor": 2
}
