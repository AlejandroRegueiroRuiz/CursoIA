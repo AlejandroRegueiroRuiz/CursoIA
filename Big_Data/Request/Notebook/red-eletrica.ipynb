{
 "cells": [
  {
   "cell_type": "code",
   "execution_count": 1,
   "metadata": {},
   "outputs": [],
   "source": [
    "import requests\n",
    "import datetime\n",
    "import matplotlib.pyplot as plt"
   ]
  },
  {
   "cell_type": "code",
   "execution_count": 8,
   "metadata": {},
   "outputs": [
    {
     "name": "stdout",
     "output_type": "stream",
     "text": [
      "Introduce la fecha de inicio y de fin, ten en cuenta que la fecha de inicio tiene que ser antes de la fecha actual y la fecha de fin tiene que ser mayor que la fecha de inicio y menor que la fecha actual + 1 día\n",
      "La fecha de inicio no es correcta\n"
     ]
    }
   ],
   "source": [
    "# Función para obtener los datos de la API y mostrarlos\n",
    "\n",
    "def peticion(tipo):\n",
    "    precio = []\n",
    "    for i in resposta_json['included']:\n",
    "        if i['type'] == tipo:\n",
    "            for value in i['attributes']['values']:\n",
    "                precio.append(value['value'])\n",
    "\n",
    "    precio.sort()\n",
    "\n",
    "    print(f\"Las dos horas más baratas son {precio[0]} y {precio[1]}\")\n",
    "    print(f\"Las dos horas más caras son {precio[-1]} y {precio[-2]}\")\n",
    "\n",
    "    # Calcular la media de las 24 horas\n",
    "    media = sum(precio) / len(precio)\n",
    "    print(f\"La media de las 24 horas es {media:.2f}\")\n",
    "\n",
    "    # Mostrar los datos en un gráfico\n",
    "    plt.plot(precio)\n",
    "    plt.title('Precio de la electricidad')\n",
    "    plt.xlabel('Hora')\n",
    "    plt.ylabel('Precio')\n",
    "    plt.show()\n",
    "\n",
    "print('Introduce la fecha de inicio y de fin, ten en cuenta que la fecha de inicio tiene que ser antes de la fecha actual y la fecha de fin tiene que ser mayor que la fecha de inicio y menor que la fecha actual + 1 día')\n",
    "\n",
    "# Pedir al usuario la fecha de inicio y seguir pidiendo hasta que la fecha sea correcta, tiene que ser menor que la fecha de actual\n",
    "try:\n",
    "    fecha_inicio = input('Introduce la fecha de inicio en formato YYYY-MM-DD: ')\n",
    "    fecha_inicio_dt = datetime.datetime.strptime(fecha_inicio, '%Y-%m-%d')\n",
    "    while fecha_inicio_dt > datetime.datetime.now():\n",
    "        print(\"La fecha de inicio no puede ser mayor que la fecha actual\")\n",
    "        fecha_inicio = input('Introduce la fecha de inicio en formato YYYY-MM-DD: ')\n",
    "        fecha_inicio_dt = datetime.datetime.strptime(fecha_inicio, '%Y-%m-%d')\n",
    "\n",
    "\n",
    "    enderezo = f\"https://apidatos.ree.es/es/datos/mercados/precios-mercados-tiempo-real?start_date={fecha_inicio}T00:00&end_date={fecha_inicio}T23:59&time_trunc=hour\"\n",
    "    resposta = requests.get(enderezo)\n",
    "\n",
    "    print (resposta)\n",
    "    resposta_json = resposta.json()\n",
    "\n",
    "    peticion('PVPC')\n",
    "    peticion('Precio mercado spot') \n",
    "except ValueError:\n",
    "    print(\"La fecha de inicio no es correcta\")\n",
    "\n",
    "\n",
    " \n"
   ]
  }
 ],
 "metadata": {
  "kernelspec": {
   "display_name": "bigdata",
   "language": "python",
   "name": "python3"
  },
  "language_info": {
   "codemirror_mode": {
    "name": "ipython",
    "version": 3
   },
   "file_extension": ".py",
   "mimetype": "text/x-python",
   "name": "python",
   "nbconvert_exporter": "python",
   "pygments_lexer": "ipython3",
   "version": "3.12.3"
  }
 },
 "nbformat": 4,
 "nbformat_minor": 2
}
