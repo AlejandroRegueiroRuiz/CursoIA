{
 "cells": [
  {
   "cell_type": "code",
   "execution_count": 13,
   "metadata": {},
   "outputs": [],
   "source": [
    "from selenium import webdriver\n",
    "from selenium.webdriver.common.by import By\n",
    "import time\n",
    "import requests\n",
    "import json\n",
    "\n",
    "import os\n",
    "import base64\n",
    "\n",
    "driver = webdriver.Firefox()\n",
    "path = \"https://eumostwanted.eu/\""
   ]
  },
  {
   "cell_type": "code",
   "execution_count": 14,
   "metadata": {},
   "outputs": [],
   "source": [
    "driver.get(path)"
   ]
  },
  {
   "cell_type": "code",
   "execution_count": 15,
   "metadata": {},
   "outputs": [],
   "source": [
    "from selenium.common.exceptions import NoSuchElementException\n",
    "#Ajustmaos el driver a pantalla completa\n",
    "driver.maximize_window()\n",
    "\n",
    "\n",
    "try:\n",
    "    elements = driver.find_elements(By.XPATH, \"/html/body/div[1]/div/div/div[3]/div[2]/main/div[2]/div/div[1]/div/div/div/div[1]/div/div/span\")\n",
    "    back = driver.find_element(By.XPATH, \"/html/body/div[1]/div/div/div[3]/div[2]/main/div[2]/div/div[1]/div/div/div/div[1]/div[1]\")\n",
    "\n",
    "    lista_buscaos = []\n",
    "    lista_json = []\n",
    "\n",
    "    for element in elements:\n",
    "        buscado = element.text.replace(\",\",\"\").replace(\" \",\"-\").lower()\n",
    "        lista_buscaos.append(buscado)\n",
    "\n",
    "\n",
    "    i = 0\n",
    "    for i in range(len(elements)):\n",
    "        element = driver.find_element(By.XPATH, f\"/html/body/div[1]/div/div/div[3]/div[2]/main/div[2]/div/div[1]/div/div/div/div[1]/div[{i+2}]\")\n",
    "\n",
    "        # Si el elemento tiene la clase arrested, lo ignoramos\n",
    "        if (\"arrested\" in element.get_attribute(\"class\") or \"separator\" in element.get_attribute(\"class\")):\n",
    "            continue\n",
    "\n",
    "        driver.execute_script(\"arguments[0].click();\", element)\n",
    "        time.sleep(1)\n",
    "\n",
    "        wanted_image = driver.find_element(By.CLASS_NAME, \"show\")\n",
    "\n",
    "        #Accedemos a la etiqueta img de wanted_image\n",
    "        wanted_image = wanted_image.find_element(By.TAG_NAME, \"img\")\n",
    "        wanted_image = wanted_image.get_attribute(\"src\")\n",
    "\n",
    "        #Hacemos un get a la imagen y la guardamos como base64 en la carpeta imagenes2\n",
    "        response = requests.get(wanted_image)\n",
    "        \n",
    "        #Convertimos la imagen a base64\n",
    "        image_data = base64.b64encode(response.content).decode('utf-8')\n",
    "        \n",
    "        wanted_data_label = driver.find_elements(By.CLASS_NAME, \"field-label\")\n",
    "\n",
    "        # Creamos un json con los datos de la persona\n",
    "        data = {}\n",
    "        for x in range(len(wanted_data_label)):\n",
    "            value = wanted_data_label[x].find_element(By.XPATH, \"following-sibling::*[1]\")\n",
    "            data[wanted_data_label[x].text] = value.text\n",
    "\n",
    "\n",
    "        # Añadimos la imagen al json\n",
    "        data[\"imagen\"] = image_data\n",
    "\n",
    "        lista_json.append(data)\n",
    "\n",
    "        driver.save_screenshot(fr'C:\\Users\\alejandro.regueiroru\\Desktop\\CursoIA\\Big_Data\\Request\\Ejercicio_Europol\\Imagenes\\{lista_buscaos[i]}.png')\n",
    "        back.click()\n",
    "        time.sleep(0.25)\n",
    "\n",
    "      # Guardamos en un json quien es y donde trabaja\n",
    "    with open(fr'C:\\Users\\alejandro.regueiroru\\Desktop\\CursoIA\\Big_Data\\Request\\Ejercicio_Europol\\Json\\buscados.json', 'w', encoding='utf-8') as f:\n",
    "        json.dump(lista_json, f, indent=4)\n",
    "\n",
    "    driver.quit()\n",
    "\n",
    "except NoSuchElementException as e:\n",
    "    print(e)"
   ]
  }
 ],
 "metadata": {
  "kernelspec": {
   "display_name": "bigdata",
   "language": "python",
   "name": "python3"
  },
  "language_info": {
   "codemirror_mode": {
    "name": "ipython",
    "version": 3
   },
   "file_extension": ".py",
   "mimetype": "text/x-python",
   "name": "python",
   "nbconvert_exporter": "python",
   "pygments_lexer": "ipython3",
   "version": "3.12.3"
  }
 },
 "nbformat": 4,
 "nbformat_minor": 2
}
