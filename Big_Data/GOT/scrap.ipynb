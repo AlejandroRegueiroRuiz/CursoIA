{
 "cells": [
  {
   "cell_type": "code",
   "execution_count": 32,
   "metadata": {},
   "outputs": [],
   "source": [
    "import requests\n",
    "\n",
    "import json\n",
    "\n",
    "#Librarías para todo o notebook\n",
    "import pandas as pd\n",
    "import pymysql\n",
    "\n",
    "#import sqlalchemy\n",
    "from sqlalchemy.engine import create_engine\n",
    "from sqlalchemy import text"
   ]
  },
  {
   "cell_type": "markdown",
   "metadata": {},
   "source": [
    "Establecemos la conexión a la base de datos"
   ]
  },
  {
   "cell_type": "code",
   "execution_count": 33,
   "metadata": {},
   "outputs": [],
   "source": [
    "#Datos de conexión\n",
    "db_host = \"10.133.27.46\"\n",
    "db_port=9906\n",
    "db_user = \"nifi\"\n",
    "db_passwd=\"Nifi.Abc123\"\n",
    "db_name=\"nifi\"\n",
    "\n",
    "#Xerar a cadea de conexión en base aos parámetros anteriores\n",
    "connectionString=f'mysql+pymysql://{db_user}:{db_passwd}@{db_host}:{db_port}/{db_name}'"
   ]
  },
  {
   "cell_type": "markdown",
   "metadata": {},
   "source": [
    "Creamos el engine que vamos a utilizar y asociamos los datos del json extraído del api, para crear una sentencia SQL para insertar los datos en la tabla trono"
   ]
  },
  {
   "cell_type": "code",
   "execution_count": 34,
   "metadata": {},
   "outputs": [],
   "source": [
    "engine = create_engine(connectionString)\n",
    "\n",
    "enderezo = f\"https://thronesapi.com/api/v2/Characters\"\n",
    "resposta = requests.get(enderezo)\n",
    "\n",
    "resposta_json = resposta.json()\n",
    "\n",
    "for personaje in resposta_json:\n",
    "    id = personaje['id']\n",
    "    firstName = personaje['firstName']\n",
    "    lastName = personaje['lastName']\n",
    "    fullName = personaje['fullName']\n",
    "    title = personaje['title']\n",
    "    family = personaje['family']\n",
    "    image = personaje['image']\n",
    "    imageUrl = personaje['imageUrl']\n",
    "\n",
    "    cadenaSQL = f'INSERT INTO trono (id, firstName, lastName, fullName, title, family, image, imageUrl) VALUES (\"{id}\",\"{firstName}\", \"{lastName}\", \"{fullName}\", \"{title}\", \"{family}\", \"{image}\", \"{imageUrl}\");'\n",
    "    with engine.connect() as connection:\n",
    "        result = connection.execute(text(cadenaSQL))\n",
    "        connection.commit()\n",
    "\n"
   ]
  },
  {
   "cell_type": "markdown",
   "metadata": {},
   "source": [
    "Seguimos usando el mismo engine pero esta vez los datos sacados de local dado que netflix bloquea las peticiones no autorizadas, y usando la tabla netflix"
   ]
  },
  {
   "cell_type": "code",
   "execution_count": 35,
   "metadata": {},
   "outputs": [],
   "source": [
    "f = open(\"./json/netflix.json\", \"r\")\n",
    "content = f.read()\n",
    "resposta_json2 = json.loads(content)\n",
    "\n",
    "for pel in resposta_json2:\n",
    "    videoID = pel['videoID']\n",
    "    country = pel['country']\n",
    "    title1 = pel['title1']\n",
    "    title2 = pel['title2']\n",
    "    startTime = pel['startTime']\n",
    "    collection = pel['collection']\n",
    "    if collection == \"\":\n",
    "        collection = 0\n",
    "    image = pel['image']\n",
    "    genre = pel['genre']\n",
    "\n",
    "    cadenaSQL = f'INSERT INTO netflix (videoID, country, title1, title2, startTime, collection, image, genre) VALUES (\"{videoID}\",\"{country}\", \"{title1}\", \"{title2}\", \"{startTime}\", \"{collection}\", \"{image}\", \"{genre}\");'\n",
    "    with engine.connect() as connection:\n",
    "        result = connection.execute(text(cadenaSQL))\n",
    "        connection.commit()\n",
    "\n",
    "\n",
    "# Cerramos a conexión\n",
    "engine.dispose()"
   ]
  }
 ],
 "metadata": {
  "kernelspec": {
   "display_name": "bigdata",
   "language": "python",
   "name": "python3"
  },
  "language_info": {
   "codemirror_mode": {
    "name": "ipython",
    "version": 3
   },
   "file_extension": ".py",
   "mimetype": "text/x-python",
   "name": "python",
   "nbconvert_exporter": "python",
   "pygments_lexer": "ipython3",
   "version": "3.12.3"
  }
 },
 "nbformat": 4,
 "nbformat_minor": 2
}
