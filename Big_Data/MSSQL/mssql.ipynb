{
 "cells": [
  {
   "cell_type": "markdown",
   "metadata": {},
   "source": [
    "#### Importamos a libraría"
   ]
  },
  {
   "cell_type": "code",
   "execution_count": 1,
   "metadata": {},
   "outputs": [],
   "source": [
    "import pyodbc"
   ]
  },
  {
   "cell_type": "markdown",
   "metadata": {},
   "source": [
    "#### Datos de conexión"
   ]
  },
  {
   "cell_type": "code",
   "execution_count": 8,
   "metadata": {},
   "outputs": [],
   "source": [
    "DB_HOST = '127.0.0.1,1433'\n",
    "DB_NAME = 'employees'\n",
    "DB_USER = 'sa'\n",
    "DB_PASSWORD = 'Abc12300'"
   ]
  },
  {
   "cell_type": "markdown",
   "metadata": {},
   "source": [
    "#### Establecemos a conexión\n",
    "\n",
    "Primeiro creamos a cadea de conexión e logo chamamos ao método connect."
   ]
  },
  {
   "cell_type": "code",
   "execution_count": 9,
   "metadata": {},
   "outputs": [],
   "source": [
    "connectionString = f'''DRIVER={{ODBC Driver 18 for SQL Server}};\n",
    "SERVER={DB_HOST};DATABASE={DB_NAME};\n",
    "UID={DB_USER};PWD={DB_PASSWORD};\n",
    "Encrypt=Yes;TrustServerCertificate=Yes'''\n",
    "\n",
    "conexion = pyodbc.connect(connectionString)"
   ]
  },
  {
   "cell_type": "markdown",
   "metadata": {},
   "source": [
    "#### Executando unha query de lectura"
   ]
  },
  {
   "cell_type": "code",
   "execution_count": 10,
   "metadata": {},
   "outputs": [
    {
     "ename": "ProgrammingError",
     "evalue": "('42S02', \"[42S02] [Microsoft][ODBC Driver 18 for SQL Server][SQL Server]Invalid object name 'empregado'. (208) (SQLExecDirectW)\")",
     "output_type": "error",
     "traceback": [
      "\u001b[1;31m---------------------------------------------------------------------------\u001b[0m",
      "\u001b[1;31mProgrammingError\u001b[0m                          Traceback (most recent call last)",
      "Cell \u001b[1;32mIn[10], line 12\u001b[0m\n\u001b[0;32m      9\u001b[0m cursor \u001b[38;5;241m=\u001b[39m conexion\u001b[38;5;241m.\u001b[39mcursor()\n\u001b[0;32m     11\u001b[0m \u001b[38;5;66;03m#Finalmente executamos a consulta\u001b[39;00m\n\u001b[1;32m---> 12\u001b[0m cursor\u001b[38;5;241m.\u001b[39mexecute(SQL_QUERY)\n\u001b[0;32m     14\u001b[0m tuplas \u001b[38;5;241m=\u001b[39m cursor\u001b[38;5;241m.\u001b[39mfetchall()\n\u001b[0;32m     15\u001b[0m \u001b[38;5;28;01mfor\u001b[39;00m tupla \u001b[38;5;129;01min\u001b[39;00m tuplas:\n",
      "\u001b[1;31mProgrammingError\u001b[0m: ('42S02', \"[42S02] [Microsoft][ODBC Driver 18 for SQL Server][SQL Server]Invalid object name 'empregado'. (208) (SQLExecDirectW)\")"
     ]
    }
   ],
   "source": [
    "SQL_QUERY = \"\"\"\n",
    "SELECT \n",
    "nome, apelidos, dni\n",
    "FROM\n",
    "empregado\n",
    "\"\"\"\n",
    "\n",
    "#Creamos un cursos para logo acceder aos resultados\n",
    "cursor = conexion.cursor()\n",
    "\n",
    "#Finalmente executamos a consulta\n",
    "cursor.execute(SQL_QUERY)\n",
    "\n",
    "tuplas = cursor.fetchall()\n",
    "for tupla in tuplas:\n",
    "    print(f\"{tupla.apelidos}, {tupla.nome} \\t - \\t {tupla.dni}\")"
   ]
  },
  {
   "cell_type": "markdown",
   "metadata": {},
   "source": [
    "#### Insertando unha fila\n",
    "\n",
    "O seguinte modo de consulta, facemos un un prepare statement ou consulta parametrizada para previr o SQL Injection. Os ? substituímolos por variables e executamos esa consulta."
   ]
  },
  {
   "cell_type": "code",
   "execution_count": null,
   "metadata": {},
   "outputs": [],
   "source": [
    "SQL_PREPARED_STATEMENT = \"\"\"\n",
    "INSERT INTO empregado(nome, apelidos, dni, data_creacion)\n",
    "VALUES (?,?,?, CURRENT_TIMESTAMP)\n",
    "\"\"\"\n",
    "sufixo=\"1\"\n",
    "\n",
    "cursor.execute(\n",
    "    SQL_PREPARED_STATEMENT,\n",
    "    f'nome_{sufixo}', \n",
    "    f'apelidos_{sufixo}', \n",
    "    '12345678A')\n",
    "\n",
    "# Obtemos o id de resultado, para ver se todo está correcto\n",
    "id_resultado = cursor.fetchval()\n",
    "print(id_resultado)\n",
    "\n",
    "# Debemos confirmar cun commit a transacción:\n",
    "conexion.commit()\n",
    "# conexion.rollback()\n",
    "\n",
    "#Pechar o cursor e a conexión\n",
    "cursor.close()\n",
    "conexion.close()"
   ]
  },
  {
   "cell_type": "markdown",
   "metadata": {},
   "source": [
    "#### Xuntalo con PANDAS é moi simple"
   ]
  },
  {
   "cell_type": "code",
   "execution_count": null,
   "metadata": {},
   "outputs": [],
   "source": [
    "import pandas as pd\n",
    "\n",
    "query_for_pandas=\"SELECT * FROM empregado\"\n",
    "conexion_p = pyodbc.connect(connectionString)\n",
    "df = pd.read_sql_query(query_for_pandas, conexion_p)\n",
    "\n",
    "conexion_p.close()\n",
    "\n",
    "df"
   ]
  }
 ],
 "metadata": {
  "kernelspec": {
   "display_name": "bigdata",
   "language": "python",
   "name": "python3"
  },
  "language_info": {
   "codemirror_mode": {
    "name": "ipython",
    "version": 3
   },
   "file_extension": ".py",
   "mimetype": "text/x-python",
   "name": "python",
   "nbconvert_exporter": "python",
   "pygments_lexer": "ipython3",
   "version": "3.12.3"
  }
 },
 "nbformat": 4,
 "nbformat_minor": 2
}
