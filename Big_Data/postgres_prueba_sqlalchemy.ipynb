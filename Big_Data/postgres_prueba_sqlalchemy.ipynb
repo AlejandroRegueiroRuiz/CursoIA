{
 "cells": [
  {
   "cell_type": "markdown",
   "metadata": {},
   "source": [
    "<p> Código para conectar con SQLAlchemy </p>"
   ]
  },
  {
   "cell_type": "code",
   "execution_count": 2,
   "metadata": {},
   "outputs": [
    {
     "name": "stdout",
     "output_type": "stream",
     "text": [
      "[(2, 'Melindres galegos', 'Os mesmos')]\n"
     ]
    }
   ],
   "source": [
    "import sqlalchemy as db\n",
    "from sqlalchemy import text\n",
    "\n",
    "db_name = \"sobremesa\"\n",
    "db_user = \"lambon\"\n",
    "db_password = \"Fl4nD3C4f3\"\n",
    "db_host= 'localhost'\n",
    "db_port = 5432\n",
    "\n",
    "# Creamos unha conexión\n",
    "engine = db.create_engine(f'postgresql://{db_user}:{db_password}@{db_host}:{db_port}/{db_name}')\n",
    "conn = engine.connect()\n",
    "\n",
    "# Pedimos e sacamos os datos por pantalla\n",
    "sobremesas = conn.execute(text('SELECT * FROM melindre;'))\n",
    "print(sobremesas.fetchall())\n",
    "\n",
    "# Pechamos a conexión\n",
    "conn.close()"
   ]
  }
 ],
 "metadata": {
  "kernelspec": {
   "display_name": "bigdata",
   "language": "python",
   "name": "python3"
  },
  "language_info": {
   "codemirror_mode": {
    "name": "ipython",
    "version": 3
   },
   "file_extension": ".py",
   "mimetype": "text/x-python",
   "name": "python",
   "nbconvert_exporter": "python",
   "pygments_lexer": "ipython3",
   "version": "3.12.7"
  }
 },
 "nbformat": 4,
 "nbformat_minor": 2
}
