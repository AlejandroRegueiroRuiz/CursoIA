{
 "cells": [
  {
   "cell_type": "code",
   "execution_count": 1,
   "metadata": {},
   "outputs": [],
   "source": [
    "import argparse\n",
    "from enum import Enum\n",
    "import sys\n",
    "from selenium import webdriver\n",
    "\n",
    "from selenium.webdriver.common.by import By\n",
    "from selenium.webdriver.common.keys import Keys\n",
    "from selenium.webdriver.support.ui import WebDriverWait\n",
    "from selenium.webdriver.support import expected_conditions as EC\n",
    "from selenium.webdriver.common.action_chains import ActionChains\n",
    "from selenium.webdriver.support.select import Select\n",
    "from selenium.common.exceptions import NoSuchElementException\n",
    "\n",
    "import time\n",
    "import random"
   ]
  },
  {
   "cell_type": "code",
   "execution_count": 2,
   "metadata": {},
   "outputs": [
    {
     "name": "stderr",
     "output_type": "stream",
     "text": [
      "The geckodriver version (0.35.0) detected in PATH at C:\\Users\\alejandro.regueiroru\\.wdm\\drivers\\geckodriver\\win64\\v0.35.0\\geckodriver.exe might not be compatible with the detected firefox version (138.0.3); currently, geckodriver 0.36.0 is recommended for firefox 138.*, so it is advised to delete the driver in PATH and retry\n"
     ]
    }
   ],
   "source": [
    "driver = webdriver.Firefox()"
   ]
  },
  {
   "cell_type": "code",
   "execution_count": 3,
   "metadata": {},
   "outputs": [],
   "source": [
    "def waitFinishLoad(driver):\n",
    "    time.sleep(0.1)"
   ]
  },
  {
   "cell_type": "code",
   "execution_count": 4,
   "metadata": {},
   "outputs": [],
   "source": [
    "def clickByXPath(auxText, driver):\n",
    "    waitFinishLoad(driver)\n",
    "    elem = driver.find_element(By.XPATH, auxText)\n",
    "    elem.click()\n",
    "    waitFinishLoad(driver)"
   ]
  },
  {
   "cell_type": "code",
   "execution_count": 5,
   "metadata": {},
   "outputs": [],
   "source": [
    "Minimun_wage_path = \"https://rshiny.ilo.org/dataexplorer55/?lang=en&segment=indicator&id=EAR_4MMN_CUR_NB_A\""
   ]
  },
  {
   "cell_type": "code",
   "execution_count": 6,
   "metadata": {},
   "outputs": [],
   "source": [
    "driver.get(Minimun_wage_path)"
   ]
  },
  {
   "cell_type": "code",
   "execution_count": 7,
   "metadata": {},
   "outputs": [
    {
     "data": {
      "text/plain": [
       "<selenium.webdriver.remote.webelement.WebElement (session=\"0055dc04-9a99-4c5f-ae99-885acc23b2aa\", element=\"498067d2-5407-483a-9554-1635efecd7e1\")>"
      ]
     },
     "execution_count": 7,
     "metadata": {},
     "output_type": "execute_result"
    }
   ],
   "source": [
    "WebDriverWait(driver, 10).until(EC.presence_of_element_located((By.XPATH, \"//button[@data-id='filter_classif1']\")))"
   ]
  },
  {
   "cell_type": "code",
   "execution_count": 8,
   "metadata": {},
   "outputs": [],
   "source": [
    "driver.find_element(By.XPATH, \"//button[@data-id='filter_classif1']\").click()\n",
    "driver.find_element(By.ID, \"bs-select-5-0\").click()\n",
    "driver.find_element(By.ID, \"bs-select-5-1\").click()\n",
    "driver.find_element(By.XPATH, \"//button[@data-id='filter_classif1']\").click()"
   ]
  },
  {
   "cell_type": "code",
   "execution_count": 9,
   "metadata": {},
   "outputs": [
    {
     "data": {
      "text/plain": [
       "<selenium.webdriver.remote.webelement.WebElement (session=\"0055dc04-9a99-4c5f-ae99-885acc23b2aa\", element=\"c11d708e-2c9f-44e2-a2c0-e9b88253c879\")>"
      ]
     },
     "execution_count": 9,
     "metadata": {},
     "output_type": "execute_result"
    }
   ],
   "source": [
    "WebDriverWait(driver, 10).until(EC.presence_of_element_located((By.XPATH, \"//td[normalize-space(text())='Afghanistan']\")))"
   ]
  },
  {
   "cell_type": "code",
   "execution_count": 10,
   "metadata": {},
   "outputs": [
    {
     "name": "stdout",
     "output_type": "stream",
     "text": [
      "Controlador izquierdo desplazado a la izquierda.\n",
      "Controlador derecho desplazado a la derecha.\n"
     ]
    }
   ],
   "source": [
    "\n",
    "# Localiza los controladores (handles) de la barra\n",
    "controlador_izquierdo = driver.find_element(By.CSS_SELECTOR, \".irs-handle.from\")\n",
    "controlador_derecho = driver.find_element(By.CSS_SELECTOR, \".irs-handle.to\")\n",
    "\n",
    "# Calcula el desplazamiento necesario para llevar el controlador izquierdo al inicio\n",
    "offset_izquierda = -150\n",
    "\n",
    "# Calcula el desplazamiento necesario para llevar el controlador derecho al final\n",
    "offset_derecha = 0\n",
    "\n",
    "acciones = ActionChains(driver)\n",
    "\n",
    "# Desplaza el controlador izquierdo completamente a la izquierda\n",
    "acciones.drag_and_drop_by_offset(controlador_izquierdo, offset_izquierda, 0).perform()\n",
    "print(\"Controlador izquierdo desplazado a la izquierda.\")\n",
    "\n",
    "# Espera un momento para que el desplazamiento se complete\n",
    "time.sleep(1)\n",
    "\n",
    "# Desplaza el controlador derecho completamente a la derecha\n",
    "acciones.drag_and_drop_by_offset(controlador_derecho, offset_derecha, 0).perform()\n",
    "print(\"Controlador derecho desplazado a la derecha.\")"
   ]
  },
  {
   "cell_type": "code",
   "execution_count": 11,
   "metadata": {},
   "outputs": [
    {
     "data": {
      "text/plain": [
       "<selenium.webdriver.remote.webelement.WebElement (session=\"0055dc04-9a99-4c5f-ae99-885acc23b2aa\", element=\"b4680fc9-2c16-411e-8d62-6459fd645346\")>"
      ]
     },
     "execution_count": 11,
     "metadata": {},
     "output_type": "execute_result"
    }
   ],
   "source": [
    "WebDriverWait(driver, 10).until(EC.presence_of_element_located((By.XPATH, \"//option[@value='500']\")))"
   ]
  },
  {
   "cell_type": "code",
   "execution_count": 12,
   "metadata": {},
   "outputs": [],
   "source": [
    "driver.find_element(By.XPATH, \"//option[@value='500']\").click()"
   ]
  },
  {
   "cell_type": "code",
   "execution_count": 13,
   "metadata": {},
   "outputs": [],
   "source": [
    "tabla = driver.find_element(By.CSS_SELECTOR, \".display.compact.dataTable.no-footer\")"
   ]
  },
  {
   "cell_type": "code",
   "execution_count": 14,
   "metadata": {},
   "outputs": [
    {
     "name": "stdout",
     "output_type": "stream",
     "text": [
      "Fin nominas\n"
     ]
    }
   ],
   "source": [
    "import pandas as pd\n",
    "data_list = []\n",
    "while True:\n",
    "    # Extraemos el body de la tabla\n",
    "    tabla_body = tabla.find_element(By.TAG_NAME, \"tbody\")\n",
    "\n",
    "    # Extraemos todas las filas de la tabla y las guardamos en una lista\n",
    "    filas = tabla_body.find_elements(By.TAG_NAME, \"tr\")\n",
    "    \n",
    "    for fila in filas:\n",
    "        columns = fila.find_elements(By.TAG_NAME, \"td\")\n",
    "        \n",
    "        # Crear un objeto (diccionario en este caso) con los datos de la fila\n",
    "        if len(columns) == 5:  # Asegurarse de que la fila tiene las 5 columnas esperadas\n",
    "            row_data = {\n",
    "                'Reference area': columns[0].text,\n",
    "                'Source': columns[1].text,\n",
    "                'Currency': columns[2].text,\n",
    "                'Year': columns[3].text,\n",
    "                'Value': columns[4].text\n",
    "            }\n",
    "            data_list.append(row_data)\n",
    "\n",
    "    # Si el número de filas es menor a 500, terminamos el bucle\n",
    "    if len(filas) < 500:\n",
    "        break\n",
    "\n",
    "    driver.find_element(By.CSS_SELECTOR, \".paginate_button.next\").click()\n",
    "\n",
    "print(\"Fin nominas\")\n",
    "\n",
    "# Crear un DataFrame de pandas con los datos extraídos\n",
    "df = pd.DataFrame(data_list)"
   ]
  },
  {
   "cell_type": "code",
   "execution_count": 15,
   "metadata": {},
   "outputs": [
    {
     "data": {
      "text/html": [
       "<div>\n",
       "<style scoped>\n",
       "    .dataframe tbody tr th:only-of-type {\n",
       "        vertical-align: middle;\n",
       "    }\n",
       "\n",
       "    .dataframe tbody tr th {\n",
       "        vertical-align: top;\n",
       "    }\n",
       "\n",
       "    .dataframe thead th {\n",
       "        text-align: right;\n",
       "    }\n",
       "</style>\n",
       "<table border=\"1\" class=\"dataframe\">\n",
       "  <thead>\n",
       "    <tr style=\"text-align: right;\">\n",
       "      <th></th>\n",
       "      <th>Reference area</th>\n",
       "      <th>Source</th>\n",
       "      <th>Currency</th>\n",
       "      <th>Year</th>\n",
       "      <th>Value</th>\n",
       "    </tr>\n",
       "  </thead>\n",
       "  <tbody>\n",
       "    <tr>\n",
       "      <th>0</th>\n",
       "      <td>Afghanistan</td>\n",
       "      <td>ADM - Labour legislation</td>\n",
       "      <td>U.S. dollars</td>\n",
       "      <td>2020</td>\n",
       "      <td>71.6</td>\n",
       "    </tr>\n",
       "    <tr>\n",
       "      <th>1</th>\n",
       "      <td>Afghanistan</td>\n",
       "      <td>ADM - Labour legislation</td>\n",
       "      <td>U.S. dollars</td>\n",
       "      <td>2019</td>\n",
       "      <td>70.8</td>\n",
       "    </tr>\n",
       "    <tr>\n",
       "      <th>2</th>\n",
       "      <td>Afghanistan</td>\n",
       "      <td>ADM - Labour legislation</td>\n",
       "      <td>U.S. dollars</td>\n",
       "      <td>2018</td>\n",
       "      <td>76.3</td>\n",
       "    </tr>\n",
       "    <tr>\n",
       "      <th>3</th>\n",
       "      <td>Afghanistan</td>\n",
       "      <td>ADM - Labour legislation</td>\n",
       "      <td>U.S. dollars</td>\n",
       "      <td>2017</td>\n",
       "      <td>80.8</td>\n",
       "    </tr>\n",
       "    <tr>\n",
       "      <th>4</th>\n",
       "      <td>Afghanistan</td>\n",
       "      <td>ADM - Labour legislation</td>\n",
       "      <td>U.S. dollars</td>\n",
       "      <td>2016</td>\n",
       "      <td>73.7</td>\n",
       "    </tr>\n",
       "    <tr>\n",
       "      <th>...</th>\n",
       "      <td>...</td>\n",
       "      <td>...</td>\n",
       "      <td>...</td>\n",
       "      <td>...</td>\n",
       "      <td>...</td>\n",
       "    </tr>\n",
       "    <tr>\n",
       "      <th>3552</th>\n",
       "      <td>Zambia</td>\n",
       "      <td>ADM - Labour legislation</td>\n",
       "      <td>U.S. dollars</td>\n",
       "      <td>2011</td>\n",
       "      <td>86.4</td>\n",
       "    </tr>\n",
       "    <tr>\n",
       "      <th>3553</th>\n",
       "      <td>Zambia</td>\n",
       "      <td>ADM - Labour legislation</td>\n",
       "      <td>U.S. dollars</td>\n",
       "      <td>2010</td>\n",
       "      <td>55.9</td>\n",
       "    </tr>\n",
       "    <tr>\n",
       "      <th>3554</th>\n",
       "      <td>Zambia</td>\n",
       "      <td>ADM - Labour legislation</td>\n",
       "      <td>U.S. dollars</td>\n",
       "      <td>2009</td>\n",
       "      <td>53.1</td>\n",
       "    </tr>\n",
       "    <tr>\n",
       "      <th>3555</th>\n",
       "      <td>Zambia</td>\n",
       "      <td>ADM - Labour legislation</td>\n",
       "      <td>U.S. dollars</td>\n",
       "      <td>2008</td>\n",
       "      <td>71.6</td>\n",
       "    </tr>\n",
       "    <tr>\n",
       "      <th>3556</th>\n",
       "      <td>Zimbabwe</td>\n",
       "      <td>ADM-RWO - Records of the Ministry of Labour an...</td>\n",
       "      <td>U.S. dollars</td>\n",
       "      <td>2022</td>\n",
       "      <td>120.1</td>\n",
       "    </tr>\n",
       "  </tbody>\n",
       "</table>\n",
       "<p>3557 rows × 5 columns</p>\n",
       "</div>"
      ],
      "text/plain": [
       "     Reference area                                             Source  \\\n",
       "0       Afghanistan                           ADM - Labour legislation   \n",
       "1       Afghanistan                           ADM - Labour legislation   \n",
       "2       Afghanistan                           ADM - Labour legislation   \n",
       "3       Afghanistan                           ADM - Labour legislation   \n",
       "4       Afghanistan                           ADM - Labour legislation   \n",
       "...             ...                                                ...   \n",
       "3552         Zambia                           ADM - Labour legislation   \n",
       "3553         Zambia                           ADM - Labour legislation   \n",
       "3554         Zambia                           ADM - Labour legislation   \n",
       "3555         Zambia                           ADM - Labour legislation   \n",
       "3556       Zimbabwe  ADM-RWO - Records of the Ministry of Labour an...   \n",
       "\n",
       "          Currency  Year  Value  \n",
       "0     U.S. dollars  2020   71.6  \n",
       "1     U.S. dollars  2019   70.8  \n",
       "2     U.S. dollars  2018   76.3  \n",
       "3     U.S. dollars  2017   80.8  \n",
       "4     U.S. dollars  2016   73.7  \n",
       "...            ...   ...    ...  \n",
       "3552  U.S. dollars  2011   86.4  \n",
       "3553  U.S. dollars  2010   55.9  \n",
       "3554  U.S. dollars  2009   53.1  \n",
       "3555  U.S. dollars  2008   71.6  \n",
       "3556  U.S. dollars  2022  120.1  \n",
       "\n",
       "[3557 rows x 5 columns]"
      ]
     },
     "execution_count": 15,
     "metadata": {},
     "output_type": "execute_result"
    }
   ],
   "source": [
    "df"
   ]
  },
  {
   "cell_type": "code",
   "execution_count": 16,
   "metadata": {},
   "outputs": [],
   "source": [
    "df.to_csv('../csv/minimun-wage.csv', index=False)"
   ]
  }
 ],
 "metadata": {
  "kernelspec": {
   "display_name": "bigdata",
   "language": "python",
   "name": "python3"
  },
  "language_info": {
   "codemirror_mode": {
    "name": "ipython",
    "version": 3
   },
   "file_extension": ".py",
   "mimetype": "text/x-python",
   "name": "python",
   "nbconvert_exporter": "python",
   "pygments_lexer": "ipython3",
   "version": "3.12.3"
  }
 },
 "nbformat": 4,
 "nbformat_minor": 2
}
