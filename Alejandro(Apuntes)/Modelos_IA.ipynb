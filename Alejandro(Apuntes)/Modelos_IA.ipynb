{
 "cells": [
  {
   "cell_type": "markdown",
   "metadata": {},
   "source": [
    "<p>\n",
    "• Regresión:\n",
    "Regresión lineal\n",
    "Regresión polinómica\n",
    "\n",
    "• Clasificación:\n",
    "Regresión logística\n",
    "SVM(Máquinas de soporte vectorial)\n",
    "KNN(k-nearest-neighbors)\n",
    "Árboles de decisión\n",
    "Random Forests\n",
    "\n",
    "• Algoritmos basados en probabilidad:\n",
    "Naive Bayes\n",
    "\n",
    "\n",
    "o Clustering: K-means\n",
    "o Reducción de dimensionalidad: PCA\n",
    "o Modelos generativos: GANs</p>"
   ]
  }
 ],
 "metadata": {
  "language_info": {
   "name": "python"
  }
 },
 "nbformat": 4,
 "nbformat_minor": 2
}
